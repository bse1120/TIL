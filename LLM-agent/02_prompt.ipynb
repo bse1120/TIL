{
 "cells": [
  {
   "cell_type": "markdown",
   "id": "2186fe4b",
   "metadata": {},
   "source": [
    "# 프롬프트 (Prompt)\n",
    "`02_prompt.ipynb`\n",
    "\n",
    "- LLM한테 주는 입력(지시, 맥락, 기억)\n",
    "\t- 지시: '~~해줘'\n",
    "\t- 맥락: Context - 현재 지시를 위해 제공하는 추가 정보\n",
    "\t- 기억: Memory - 지금까지 했던 대화 내용"
   ]
  },
  {
   "cell_type": "code",
   "execution_count": 1,
   "id": "2476f26c",
   "metadata": {},
   "outputs": [
    {
     "data": {
      "text/plain": [
       "True"
      ]
     },
     "execution_count": 1,
     "metadata": {},
     "output_type": "execute_result"
    }
   ],
   "source": [
    "from dotenv import load_dotenv\n",
    "\n",
    "load_dotenv()"
   ]
  },
  {
   "cell_type": "code",
   "execution_count": 4,
   "id": "9476c8c0",
   "metadata": {},
   "outputs": [],
   "source": [
    "from langchain_openai import ChatOpenAI\n",
    "from langchain_core.prompts import PromptTemplate\n",
    "from langchain_core.output_parsers import StrOutputParser\n",
    "\n",
    "llm = ChatOpenAI(model='gpt-4.1-nano')"
   ]
  },
  {
   "cell_type": "code",
   "execution_count": 5,
   "id": "984a8703",
   "metadata": {},
   "outputs": [
    {
     "data": {
      "text/plain": [
       "'대한민국의 수도가 어디인가요?'"
      ]
     },
     "execution_count": 5,
     "metadata": {},
     "output_type": "execute_result"
    }
   ],
   "source": [
    "# 추후에 체인. invoke에서 {} 내부에 들어갈 말을 채워줘야 함.\n",
    "template = '{country}의 수도가 어디인가요?'\n",
    "\n",
    "prompt = PromptTemplate.from_template(template)\n",
    "\n",
    "# {}를 채우는 방법 (우리는 결국 chain.invoke 로 쓰게 됨)\n",
    "prompt.format(country='대한민국')"
   ]
  },
  {
   "cell_type": "code",
   "execution_count": 6,
   "id": "b26aed1b",
   "metadata": {},
   "outputs": [
    {
     "data": {
      "text/plain": [
       "'대한민국의 수도는 서울입니다.'"
      ]
     },
     "execution_count": 6,
     "metadata": {},
     "output_type": "execute_result"
    }
   ],
   "source": [
    "chain = prompt | llm\n",
    "\n",
    "chain.invoke({'country': '대한민국'}).content"
   ]
  },
  {
   "cell_type": "markdown",
   "id": "0caae4f5",
   "metadata": {},
   "source": [
    "# Partial Variable (부분 변수)\n",
    "\n",
    "- 프롬프트에서 매개변수 기본값 사용하기"
   ]
  },
  {
   "cell_type": "code",
   "execution_count": 7,
   "id": "07089e0c",
   "metadata": {},
   "outputs": [
    {
     "data": {
      "text/plain": [
       "'한국과 미국의 수도는 각각 어디인가요?'"
      ]
     },
     "execution_count": 7,
     "metadata": {},
     "output_type": "execute_result"
    }
   ],
   "source": [
    "template = '{c1}과 {c2}의 수도는 각각 어디인가요?'\n",
    "\n",
    "prompt = PromptTemplate(\n",
    "    template=template,\n",
    "    imput_variables=['c1'],\n",
    "    partial_variables={\n",
    "        'c2': '미국'\n",
    "\t\t\t\t}\n",
    ")\n",
    "\n",
    "prompt.format(c1='한국')\n",
    "# prompt.format(c2='캐나다')"
   ]
  },
  {
   "cell_type": "code",
   "execution_count": 8,
   "id": "dcb7fdd0",
   "metadata": {},
   "outputs": [
    {
     "data": {
      "text/plain": [
       "'한국(대한민국)의 수도는 서울이고, 미국(United States)의 수도는 워싱턴 D.C.입니다.'"
      ]
     },
     "execution_count": 8,
     "metadata": {},
     "output_type": "execute_result"
    }
   ],
   "source": [
    "chain = prompt | llm\n",
    "chain.invoke({'c1': 'kor', 'c2': 'us'}).content"
   ]
  },
  {
   "cell_type": "code",
   "execution_count": 11,
   "id": "8a001bf0",
   "metadata": {},
   "outputs": [
    {
     "data": {
      "text/plain": [
       "'오늘 날짜는 Sep 01입니다. 오늘 생일인 유명인 3명을 생년월일과 함께 나열해 주세요'"
      ]
     },
     "execution_count": 11,
     "metadata": {},
     "output_type": "execute_result"
    }
   ],
   "source": [
    "from datetime import datetime\n",
    "\n",
    "def get_today():\n",
    "    return datetime.now().strftime('%b %d')\n",
    "\n",
    "prompt = PromptTemplate(\n",
    "    template='오늘 날짜는 {today}입니다. 오늘 생일인 유명인 {n}명을 생년월일과 함께 나열해 주세요',\n",
    "    input_variables=['n'],\n",
    "    partial_variables={\n",
    "        'today': get_today\n",
    "    }\n",
    ")\n",
    "\n",
    "prompt.format(n=3)"
   ]
  },
  {
   "cell_type": "code",
   "execution_count": 12,
   "id": "afbe3b2f",
   "metadata": {},
   "outputs": [
    {
     "name": "stdout",
     "output_type": "stream",
     "text": [
      "오늘은 9월 1일입니다. Sep 1 생일인 유명인으로 가장 잘 알려진 분은:\n",
      "- Zendaya (1996-09-01)\n",
      "\n",
      "다른 두 명도 함께 정확히 안내해 드리려면 추가 확인이 필요합니다. 인터넷 검색으로 확인해 세 명 모두 생년월일과 함께 확정해 드려도 될까요? 진행 여부를 알려 주세요.\n",
      "===\n",
      "다음은 오늘(1월 2일) 생일인 유명인 3명과 생년월일입니다.\n",
      "\n",
      "- 아이작 아시모프 — 1920년 1월 2일\n",
      "- 케이트 보스워스 — 1983년 1월 2일\n",
      "- 쿠바 구딩 주니어 — 1968년 1월 2일\n"
     ]
    }
   ],
   "source": [
    "llm = ChatOpenAI(model='gpt-5-nano')\n",
    "\n",
    "chain = prompt | llm\n",
    "# 오늘 날짜 기준\n",
    "print(chain.invoke({'n': 3}).content)\n",
    "print('===')\n",
    "print(chain.invoke({'n': 3, 'today': 'Jan 2'}).content)"
   ]
  },
  {
   "cell_type": "markdown",
   "id": "946c8137",
   "metadata": {},
   "source": [
    "## `ChatPromptTemplate`\n",
    " - 채팅을 주고받는 템플릿 생성용\n",
    "\t- 대화 목록을 LLM에게 주입\n",
    "\t- 하나의 Chat 은 `role` 과 `message` 로 구성됨"
   ]
  },
  {
   "cell_type": "code",
   "execution_count": 16,
   "id": "eaca607b",
   "metadata": {},
   "outputs": [
    {
     "data": {
      "text/plain": [
       "'Human: 한국의 수도는 어디?'"
      ]
     },
     "execution_count": 16,
     "metadata": {},
     "output_type": "execute_result"
    }
   ],
   "source": [
    "from langchain_core.prompts import ChatPromptTemplate\n",
    "\n",
    "chat_prompt = ChatPromptTemplate.from_template('{country}의 수도는 어디?')\n",
    "chat_prompt.format(country='한국')"
   ]
  },
  {
   "cell_type": "code",
   "execution_count": 17,
   "id": "a71f2dcb",
   "metadata": {},
   "outputs": [
    {
     "name": "stdout",
     "output_type": "stream",
     "text": [
      "System: 당신은 친절한 AI어시스트. 이름은 gaida야.\n",
      "Human: 반가워!\n",
      "AI: 무엇을 도와드릴까요?\n",
      "Human: 이름이 뭐니?\n",
      "[SystemMessage(content='당신은 친절한 AI어시스트. 이름은 gaida야.', additional_kwargs={}, response_metadata={}), HumanMessage(content='반가워!', additional_kwargs={}, response_metadata={}), AIMessage(content='무엇을 도와드릴까요?', additional_kwargs={}, response_metadata={}), HumanMessage(content='이름이 뭐니?', additional_kwargs={}, response_metadata={})]\n"
     ]
    }
   ],
   "source": [
    "chat_template = ChatPromptTemplate.from_messages(\n",
    "    [\n",
    "        # role - message\n",
    "        ('system', '당신은 친절한 AI어시스트. 이름은 {name}야.'),\n",
    "        ('human', '반가워!'),\n",
    "        ('ai', '무엇을 도와드릴까요?'),\n",
    "        ('human', '{user_input}')\n",
    "\t\t\t\t]\n",
    ")\n",
    "\n",
    "# format vs format_messages\n",
    "messages_str = chat_template.format(name='gaida', user_input='이름이 뭐니?')\n",
    "messages_cls = chat_template.format_messages(name='gaida', user_input='이름이 뭐니?')\n",
    "print(messages_str)\n",
    "print(messages_cls)"
   ]
  },
  {
   "cell_type": "code",
   "execution_count": 18,
   "id": "73801616",
   "metadata": {},
   "outputs": [
    {
     "data": {
      "text/plain": [
       "'제 이름은 gaida예요. 반가워요! 무엇을 도와드릴까요?'"
      ]
     },
     "execution_count": 18,
     "metadata": {},
     "output_type": "execute_result"
    }
   ],
   "source": [
    "# 한덩어리 테스트\n",
    "llm.invoke(messages_cls).content\n",
    "# 실제 대화 내역으로 인지 (Langsmith 가서 확인)\n",
    "llm.invoke(messages_cls).content"
   ]
  },
  {
   "cell_type": "code",
   "execution_count": 20,
   "id": "1005b3fd",
   "metadata": {},
   "outputs": [
    {
     "data": {
      "text/plain": [
       "'좋아요! 재미로 보는 이름점과 궁합을 간단하게 계산해볼게요. 참고로 이것은 전통 점술의 한 방식 중 하나일 뿐, 과학적 예측은 아니고 즐길 거리로 봐주세요.\\n\\n1) 이름점(획수 추정) — 두 분의 총획수\\n- 배승은 (배 + 승 + 은)\\n  - 배: 6획\\n  - 승: 5획\\n  - 은: 4획\\n  - 합계: 15획\\n\\n- 이기영 (이 + 기 + 영)\\n  - 이: 2획\\n  - 기: 3획\\n  - 영: 4획\\n  - 합계: 9획\\n\\n2) 궁합 해석(두 이름의 조합으로 본 간단한 해석)\\n- 두 분의 총획 차이: |15 - 9| = 6\\n- 궁합 점수(재미로 본 간단 공식): 100 - 2 × 차이 = 100 - 12 = 88점\\n  - 해석 요지: 매우 좋은 궁합으로 보는 편에 가깝습니다. 서로의 강점이 잘 어울리며, 협력하면 큰 시너지를 낼 가능성이 큼.\\n\\n3) 간단한 해석 요약\\n- 15획의 배승은: 추진력 강하고 열정적이며 리더십이 두드러짐. 새로운 도전을 즐김.\\n- 9획의 이기영은: 차분하고 현실적이며 실무적 능력이 뛰어나고 인간관계 형성에 강함.\\n- 두 사람의 조합: 서로 보완적이어서 함께 목표를 향해 잘 맞춰 나가면 좋은 결과를 낼 가능성이 큼. 다만 배승은이 추진을 강하게 밀고 나갈 때 이기영이 현실성이나 세부 실행에 관여해 균형을 맞추는 것이 중요할 수 있음.\\n\\n4) 더 다듬은 해석이 필요하신가요?\\n- 원하시면 같은 이름점이라도 다른 방식으로 다시 계산해드릴 수 있어요. 예를 들면\\n  - 초성/중성/종성 기준의 이름점\\n  - 음양오행 기반의 해석\\n  - 숫자 합계로 보는 간단한 궁합 등\\n- 어떤 방식으로 보고 싶으신지 알려주시면 그 방식대로 다시 계산해 드리겠습니다.\\n\\n참고로 이 결과는 재미용으로만 받아들여 주세요. 더 깊은 해석이나 다른 방법으로도 원하신다면 말씀해 주세요!'"
      ]
     },
     "execution_count": 20,
     "metadata": {},
     "output_type": "execute_result"
    }
   ],
   "source": [
    "chain = chat_template | llm | StrOutputParser()\n",
    "\n",
    "chain.invoke({'name': '가이다', 'user_input': '배승은과 이기영의 이름점을 봐줘. 우리 이름의 조합으로 나온 궁합 해석까지 해줘'})"
   ]
  },
  {
   "cell_type": "code",
   "execution_count": 21,
   "id": "b9f79398",
   "metadata": {},
   "outputs": [
    {
     "name": "stdout",
     "output_type": "stream",
     "text": [
      "좋아요! 재미로 보는 이름점과 궁합을 간단하게 계산해볼게요. 참고로 이것은 전통 점술의 한 방식 중 하나일 뿐, 과학적 예측은 아니고 즐길 거리로 봐주세요.\n",
      "\n",
      "1) 이름점(획수 추정) — 두 분의 총획수\n",
      "- 배승은 (배 + 승 + 은)\n",
      "  - 배: 6획\n",
      "  - 승: 5획\n",
      "  - 은: 4획\n",
      "  - 합계: 15획\n",
      "\n",
      "- 이기영 (이 + 기 + 영)\n",
      "  - 이: 2획\n",
      "  - 기: 3획\n",
      "  - 영: 4획\n",
      "  - 합계: 9획\n",
      "\n",
      "2) 궁합 해석(두 이름의 조합으로 본 간단한 해석)\n",
      "- 두 분의 총획 차이: |15 - 9| = 6\n",
      "- 궁합 점수(재미로 본 간단 공식): 100 - 2 × 차이 = 100 - 12 = 88점\n",
      "  - 해석 요지: 매우 좋은 궁합으로 보는 편에 가깝습니다. 서로의 강점이 잘 어울리며, 협력하면 큰 시너지를 낼 가능성이 큼.\n",
      "\n",
      "3) 간단한 해석 요약\n",
      "- 15획의 배승은: 추진력 강하고 열정적이며 리더십이 두드러짐. 새로운 도전을 즐김.\n",
      "- 9획의 이기영은: 차분하고 현실적이며 실무적 능력이 뛰어나고 인간관계 형성에 강함.\n",
      "- 두 사람의 조합: 서로 보완적이어서 함께 목표를 향해 잘 맞춰 나가면 좋은 결과를 낼 가능성이 큼. 다만 배승은이 추진을 강하게 밀고 나갈 때 이기영이 현실성이나 세부 실행에 관여해 균형을 맞추는 것이 중요할 수 있음.\n",
      "\n",
      "4) 더 다듬은 해석이 필요하신가요?\n",
      "- 원하시면 같은 이름점이라도 다른 방식으로 다시 계산해드릴 수 있어요. 예를 들면\n",
      "  - 초성/중성/종성 기준의 이름점\n",
      "  - 음양오행 기반의 해석\n",
      "  - 숫자 합계로 보는 간단한 궁합 등\n",
      "- 어떤 방식으로 보고 싶으신지 알려주시면 그 방식대로 다시 계산해 드리겠습니다.\n",
      "\n",
      "참고로 이 결과는 재미용으로만 받아들여 주세요. 더 깊은 해석이나 다른 방법으로도 원하신다면 말씀해 주세요!\n"
     ]
    }
   ],
   "source": [
    "print('좋아요! 재미로 보는 이름점과 궁합을 간단하게 계산해볼게요. 참고로 이것은 전통 점술의 한 방식 중 하나일 뿐, 과학적 예측은 아니고 즐길 거리로 봐주세요.\\n\\n1) 이름점(획수 추정) — 두 분의 총획수\\n- 배승은 (배 + 승 + 은)\\n  - 배: 6획\\n  - 승: 5획\\n  - 은: 4획\\n  - 합계: 15획\\n\\n- 이기영 (이 + 기 + 영)\\n  - 이: 2획\\n  - 기: 3획\\n  - 영: 4획\\n  - 합계: 9획\\n\\n2) 궁합 해석(두 이름의 조합으로 본 간단한 해석)\\n- 두 분의 총획 차이: |15 - 9| = 6\\n- 궁합 점수(재미로 본 간단 공식): 100 - 2 × 차이 = 100 - 12 = 88점\\n  - 해석 요지: 매우 좋은 궁합으로 보는 편에 가깝습니다. 서로의 강점이 잘 어울리며, 협력하면 큰 시너지를 낼 가능성이 큼.\\n\\n3) 간단한 해석 요약\\n- 15획의 배승은: 추진력 강하고 열정적이며 리더십이 두드러짐. 새로운 도전을 즐김.\\n- 9획의 이기영은: 차분하고 현실적이며 실무적 능력이 뛰어나고 인간관계 형성에 강함.\\n- 두 사람의 조합: 서로 보완적이어서 함께 목표를 향해 잘 맞춰 나가면 좋은 결과를 낼 가능성이 큼. 다만 배승은이 추진을 강하게 밀고 나갈 때 이기영이 현실성이나 세부 실행에 관여해 균형을 맞추는 것이 중요할 수 있음.\\n\\n4) 더 다듬은 해석이 필요하신가요?\\n- 원하시면 같은 이름점이라도 다른 방식으로 다시 계산해드릴 수 있어요. 예를 들면\\n  - 초성/중성/종성 기준의 이름점\\n  - 음양오행 기반의 해석\\n  - 숫자 합계로 보는 간단한 궁합 등\\n- 어떤 방식으로 보고 싶으신지 알려주시면 그 방식대로 다시 계산해 드리겠습니다.\\n\\n참고로 이 결과는 재미용으로만 받아들여 주세요. 더 깊은 해석이나 다른 방법으로도 원하신다면 말씀해 주세요!')"
   ]
  },
  {
   "cell_type": "markdown",
   "id": "69f904d6",
   "metadata": {},
   "source": [
    "## 프롬프팅\n",
    "내가 원하는 답변을 구구절절 설명 X -> 예시를 주고 답변을 형태를 유도\n",
    "- Zero-shot prompting : 예시 없이 질문만 -> 바로 답변\n",
    "- One-shot prompting : 예시 1개 + 질문 -> 모델이 예시를 모방해서 답변\n",
    "- **Few-shot prompting** : 예시 여러개 + 질문 -> 예시들의 패턴을 일반화 해서 답변"
   ]
  },
  {
   "cell_type": "code",
   "execution_count": 26,
   "id": "2f266f02",
   "metadata": {},
   "outputs": [
    {
     "name": "stdout",
     "output_type": "stream",
     "text": [
      "이 질문에 추가 질문이 필요한가요: 예.  \n",
      "추가 질문: Google이 창립된 연도는 언제인가요?  \n",
      "중간 답변: Google은 1998년에 창립되었습니다.  \n",
      "추가 질문: Bill Gates는 1998년에 몇 살이었나요?  \n",
      "중간 답변: Bill Gates는 1955년 10월 28일에 태어났으므로, 1998년에는 42세였습니다.  \n",
      "최종 답변은: 42살입니다.\n"
     ]
    }
   ],
   "source": [
    "from langchain_core.prompts.few_shot import FewShotPromptTemplate\n",
    "from langchain_core.output_parsers import StrOutputParser\n",
    "\n",
    "llm = ChatOpenAI(model='gpt-4.1-nano')\n",
    "\n",
    "examples = [\n",
    "    {\n",
    "        \"question\": \"스티브 잡스와 아인슈타인 중 누가 더 오래 살았나요?\",\n",
    "        \"answer\": \"\"\"이 질문에 추가 질문이 필요한가요: 예.\n",
    "추가 질문: 스티브 잡스는 몇 살에 사망했나요?\n",
    "중간 답변: 스티브 잡스는 56세에 사망했습니다.\n",
    "추가 질문: 아인슈타인은 몇 살에 사망했나요?\n",
    "중간 답변: 아인슈타인은 76세에 사망했습니다.\n",
    "최종 답변은: 아인슈타인\n",
    "\"\"\",\n",
    "    },\n",
    "    {\n",
    "        \"question\": \"네이버의 창립자는 언제 태어났나요?\",\n",
    "        \"answer\": \"\"\"이 질문에 추가 질문이 필요한가요: 예.\n",
    "추가 질문: 네이버의 창립자는 누구인가요?\n",
    "중간 답변: 네이버는 이해진에 의해 창립되었습니다.\n",
    "추가 질문: 이해진은 언제 태어났나요?\n",
    "중간 답변: 이해진은 1967년 6월 22일에 태어났습니다.\n",
    "최종 답변은: 1967년 6월 22일\n",
    "\"\"\",\n",
    "    },\n",
    "    {\n",
    "        \"question\": \"율곡 이이의 어머니가 태어난 해의 통치하던 왕은 누구인가요?\",\n",
    "        \"answer\": \"\"\"이 질문에 추가 질문이 필요한가요: 예.\n",
    "추가 질문: 율곡 이이의 어머니는 누구인가요?\n",
    "중간 답변: 율곡 이이의 어머니는 신사임당입니다.\n",
    "추가 질문: 신사임당은 언제 태어났나요?\n",
    "중간 답변: 신사임당은 1504년에 태어났습니다.\n",
    "추가 질문: 1504년에 조선을 통치한 왕은 누구인가요?\n",
    "중간 답변: 1504년에 조선을 통치한 왕은 연산군입니다.\n",
    "최종 답변은: 연산군\n",
    "\"\"\",\n",
    "    },\n",
    "    {\n",
    "        \"question\": \"올드보이와 기생충의 감독이 같은 나라 출신인가요?\",\n",
    "        \"answer\": \"\"\"이 질문에 추가 질문이 필요한가요: 예.\n",
    "추가 질문: 올드보이의 감독은 누구인가요?\n",
    "중간 답변: 올드보이의 감독은 박찬욱입니다.\n",
    "추가 질문: 박찬욱은 어느 나라 출신인가요?\n",
    "중간 답변: 박찬욱은 대한민국 출신입니다.\n",
    "추가 질문: 기생충의 감독은 누구인가요?\n",
    "중간 답변: 기생충의 감독은 봉준호입니다.\n",
    "추가 질문: 봉준호는 어느 나라 출신인가요?\n",
    "중간 답변: 봉준호는 대한민국 출신입니다.\n",
    "최종 답변은: 예\n",
    "\"\"\",\n",
    "    },\n",
    "]\n",
    "\n",
    "example_prompt = PromptTemplate.from_template(\n",
    "    \"Question:\\n{question}\\nAnswer:\\n{answer}\"\n",
    ")\n",
    "\n",
    "prompt = FewShotPromptTemplate(\n",
    "    examples=examples,\n",
    "    example_prompt=example_prompt,\n",
    "    suffix=\"Question:\\n{question}\\nAnswer:\",\n",
    "    input_variables=[\"question\"],\n",
    ")\n",
    "\n",
    "question = \"Google이 창립된 연도에 Bill Gates의 나이는 몇 살인가요?\"\n",
    "\n",
    "chain = prompt | llm | StrOutputParser()\n",
    "\n",
    "res = chain.invoke({'question': question})\n",
    "\n",
    "print(res)"
   ]
  },
  {
   "cell_type": "markdown",
   "id": "71fa936c",
   "metadata": {},
   "source": [
    "## `langchain-hub`\n",
    "다양한 사용자들이 업로드한 프롬프트를 받아서 활용"
   ]
  },
  {
   "cell_type": "code",
   "execution_count": 27,
   "id": "e3db7909",
   "metadata": {},
   "outputs": [
    {
     "name": "stdout",
     "output_type": "stream",
     "text": [
      "Answer the following questions as best you can. You have access to the following tools:\n",
      "\n",
      "{tools}\n",
      "\n",
      "Use the following format:\n",
      "\n",
      "Question: the input question you must answer\n",
      "Thought: you should always think about what to do\n",
      "Action: the action to take, should be one of [{tool_names}]\n",
      "Action Input: the input to the action\n",
      "Observation: the result of the action\n",
      "... (this Thought/Action/Action Input/Observation can repeat N times)\n",
      "Thought: I now know the final answer\n",
      "Final Answer: the final answer to the original input question\n",
      "\n",
      "Begin!\n",
      "\n",
      "Question: {input}\n",
      "Thought:{agent_scratchpad}\n"
     ]
    }
   ],
   "source": [
    "from langchain import hub\n",
    "\n",
    "prompt = hub.pull('hwchase17/react')\n",
    "print(prompt.template)"
   ]
  },
  {
   "cell_type": "code",
   "execution_count": 25,
   "id": "1df1d610",
   "metadata": {},
   "outputs": [
    {
     "ename": "LangSmithUserError",
     "evalue": "Cannot create a prompt for another tenant.\nCurrent tenant: None,\nRequested tenant: gaida",
     "output_type": "error",
     "traceback": [
      "\u001b[31m---------------------------------------------------------------------------\u001b[39m",
      "\u001b[31mLangSmithUserError\u001b[39m                        Traceback (most recent call last)",
      "\u001b[36mCell\u001b[39m\u001b[36m \u001b[39m\u001b[32mIn[25]\u001b[39m\u001b[32m, line 5\u001b[39m\n\u001b[32m      1\u001b[39m prompt = PromptTemplate.from_template(\n\u001b[32m      2\u001b[39m     \u001b[33m'\u001b[39m\u001b[33m시작은 미약하지만 끝은 창대하리\u001b[39m\u001b[33m'\u001b[39m\n\u001b[32m      3\u001b[39m )\n\u001b[32m----> \u001b[39m\u001b[32m5\u001b[39m \u001b[43mhub\u001b[49m\u001b[43m.\u001b[49m\u001b[43mpush\u001b[49m\u001b[43m(\u001b[49m\u001b[33;43m'\u001b[39;49m\u001b[33;43mgaida/prompt-hub-test\u001b[39;49m\u001b[33;43m'\u001b[39;49m\u001b[43m,\u001b[49m\u001b[43m \u001b[49m\u001b[43mprompt\u001b[49m\u001b[43m)\u001b[49m\n",
      "\u001b[36mFile \u001b[39m\u001b[32mc:\\Users\\user\\AppData\\Local\\Programs\\Python\\Python312\\Lib\\site-packages\\langchain\\hub.py:72\u001b[39m, in \u001b[36mpush\u001b[39m\u001b[34m(repo_full_name, object, api_url, api_key, parent_commit_hash, new_repo_is_public, new_repo_description, readme, tags)\u001b[39m\n\u001b[32m     70\u001b[39m \u001b[38;5;66;03m# Then it's langsmith\u001b[39;00m\n\u001b[32m     71\u001b[39m \u001b[38;5;28;01mif\u001b[39;00m \u001b[38;5;28mhasattr\u001b[39m(client, \u001b[33m\"\u001b[39m\u001b[33mpush_prompt\u001b[39m\u001b[33m\"\u001b[39m):\n\u001b[32m---> \u001b[39m\u001b[32m72\u001b[39m     \u001b[38;5;28;01mreturn\u001b[39;00m \u001b[43mclient\u001b[49m\u001b[43m.\u001b[49m\u001b[43mpush_prompt\u001b[49m\u001b[43m(\u001b[49m\n\u001b[32m     73\u001b[39m \u001b[43m        \u001b[49m\u001b[43mrepo_full_name\u001b[49m\u001b[43m,\u001b[49m\n\u001b[32m     74\u001b[39m \u001b[43m        \u001b[49m\u001b[38;5;28;43mobject\u001b[39;49m\u001b[43m=\u001b[49m\u001b[38;5;28;43mobject\u001b[39;49m\u001b[43m,\u001b[49m\n\u001b[32m     75\u001b[39m \u001b[43m        \u001b[49m\u001b[43mparent_commit_hash\u001b[49m\u001b[43m=\u001b[49m\u001b[43mparent_commit_hash\u001b[49m\u001b[43m,\u001b[49m\n\u001b[32m     76\u001b[39m \u001b[43m        \u001b[49m\u001b[43mis_public\u001b[49m\u001b[43m=\u001b[49m\u001b[43mnew_repo_is_public\u001b[49m\u001b[43m,\u001b[49m\n\u001b[32m     77\u001b[39m \u001b[43m        \u001b[49m\u001b[43mdescription\u001b[49m\u001b[43m=\u001b[49m\u001b[43mnew_repo_description\u001b[49m\u001b[43m,\u001b[49m\n\u001b[32m     78\u001b[39m \u001b[43m        \u001b[49m\u001b[43mreadme\u001b[49m\u001b[43m=\u001b[49m\u001b[43mreadme\u001b[49m\u001b[43m,\u001b[49m\n\u001b[32m     79\u001b[39m \u001b[43m        \u001b[49m\u001b[43mtags\u001b[49m\u001b[43m=\u001b[49m\u001b[43mtags\u001b[49m\u001b[43m,\u001b[49m\n\u001b[32m     80\u001b[39m \u001b[43m    \u001b[49m\u001b[43m)\u001b[49m\n\u001b[32m     82\u001b[39m \u001b[38;5;66;03m# Then it's langchainhub\u001b[39;00m\n\u001b[32m     83\u001b[39m manifest_json = dumps(\u001b[38;5;28mobject\u001b[39m)\n",
      "\u001b[36mFile \u001b[39m\u001b[32mc:\\Users\\user\\AppData\\Local\\Programs\\Python\\Python312\\Lib\\site-packages\\langsmith\\client.py:7692\u001b[39m, in \u001b[36mClient.push_prompt\u001b[39m\u001b[34m(self, prompt_identifier, object, parent_commit_hash, is_public, description, readme, tags)\u001b[39m\n\u001b[32m   7684\u001b[39m         \u001b[38;5;28mself\u001b[39m.update_prompt(\n\u001b[32m   7685\u001b[39m             prompt_identifier,\n\u001b[32m   7686\u001b[39m             description=description,\n\u001b[32m   (...)\u001b[39m\u001b[32m   7689\u001b[39m             is_public=is_public,\n\u001b[32m   7690\u001b[39m         )\n\u001b[32m   7691\u001b[39m \u001b[38;5;28;01melse\u001b[39;00m:\n\u001b[32m-> \u001b[39m\u001b[32m7692\u001b[39m     \u001b[38;5;28;43mself\u001b[39;49m\u001b[43m.\u001b[49m\u001b[43mcreate_prompt\u001b[49m\u001b[43m(\u001b[49m\n\u001b[32m   7693\u001b[39m \u001b[43m        \u001b[49m\u001b[43mprompt_identifier\u001b[49m\u001b[43m,\u001b[49m\n\u001b[32m   7694\u001b[39m \u001b[43m        \u001b[49m\u001b[43mis_public\u001b[49m\u001b[43m=\u001b[49m\u001b[43mis_public\u001b[49m\u001b[43m \u001b[49m\u001b[38;5;28;43;01mif\u001b[39;49;00m\u001b[43m \u001b[49m\u001b[43mis_public\u001b[49m\u001b[43m \u001b[49m\u001b[38;5;129;43;01mis\u001b[39;49;00m\u001b[43m \u001b[49m\u001b[38;5;129;43;01mnot\u001b[39;49;00m\u001b[43m \u001b[49m\u001b[38;5;28;43;01mNone\u001b[39;49;00m\u001b[43m \u001b[49m\u001b[38;5;28;43;01melse\u001b[39;49;00m\u001b[43m \u001b[49m\u001b[38;5;28;43;01mFalse\u001b[39;49;00m\u001b[43m,\u001b[49m\n\u001b[32m   7695\u001b[39m \u001b[43m        \u001b[49m\u001b[43mdescription\u001b[49m\u001b[43m=\u001b[49m\u001b[43mdescription\u001b[49m\u001b[43m,\u001b[49m\n\u001b[32m   7696\u001b[39m \u001b[43m        \u001b[49m\u001b[43mreadme\u001b[49m\u001b[43m=\u001b[49m\u001b[43mreadme\u001b[49m\u001b[43m,\u001b[49m\n\u001b[32m   7697\u001b[39m \u001b[43m        \u001b[49m\u001b[43mtags\u001b[49m\u001b[43m=\u001b[49m\u001b[43mtags\u001b[49m\u001b[43m,\u001b[49m\n\u001b[32m   7698\u001b[39m \u001b[43m    \u001b[49m\u001b[43m)\u001b[49m\n\u001b[32m   7700\u001b[39m \u001b[38;5;28;01mif\u001b[39;00m \u001b[38;5;28mobject\u001b[39m \u001b[38;5;129;01mis\u001b[39;00m \u001b[38;5;28;01mNone\u001b[39;00m:\n\u001b[32m   7701\u001b[39m     \u001b[38;5;28;01mreturn\u001b[39;00m \u001b[38;5;28mself\u001b[39m._get_prompt_url(prompt_identifier=prompt_identifier)\n",
      "\u001b[36mFile \u001b[39m\u001b[32mc:\\Users\\user\\AppData\\Local\\Programs\\Python\\Python312\\Lib\\site-packages\\langsmith\\client.py:7312\u001b[39m, in \u001b[36mClient.create_prompt\u001b[39m\u001b[34m(self, prompt_identifier, description, readme, tags, is_public)\u001b[39m\n\u001b[32m   7310\u001b[39m owner, prompt_name, _ = ls_utils.parse_prompt_identifier(prompt_identifier)\n\u001b[32m   7311\u001b[39m \u001b[38;5;28;01mif\u001b[39;00m \u001b[38;5;129;01mnot\u001b[39;00m \u001b[38;5;28mself\u001b[39m._current_tenant_is_owner(owner=owner):\n\u001b[32m-> \u001b[39m\u001b[32m7312\u001b[39m     \u001b[38;5;28;01mraise\u001b[39;00m \u001b[38;5;28mself\u001b[39m._owner_conflict_error(\u001b[33m\"\u001b[39m\u001b[33mcreate a prompt\u001b[39m\u001b[33m\"\u001b[39m, owner)\n\u001b[32m   7314\u001b[39m json: \u001b[38;5;28mdict\u001b[39m[\u001b[38;5;28mstr\u001b[39m, Union[\u001b[38;5;28mstr\u001b[39m, \u001b[38;5;28mbool\u001b[39m, Sequence[\u001b[38;5;28mstr\u001b[39m]]] = {\n\u001b[32m   7315\u001b[39m     \u001b[33m\"\u001b[39m\u001b[33mrepo_handle\u001b[39m\u001b[33m\"\u001b[39m: prompt_name,\n\u001b[32m   7316\u001b[39m     \u001b[33m\"\u001b[39m\u001b[33mdescription\u001b[39m\u001b[33m\"\u001b[39m: description \u001b[38;5;129;01mor\u001b[39;00m \u001b[33m\"\u001b[39m\u001b[33m\"\u001b[39m,\n\u001b[32m   (...)\u001b[39m\u001b[32m   7319\u001b[39m     \u001b[33m\"\u001b[39m\u001b[33mis_public\u001b[39m\u001b[33m\"\u001b[39m: is_public,\n\u001b[32m   7320\u001b[39m }\n\u001b[32m   7322\u001b[39m response = \u001b[38;5;28mself\u001b[39m.request_with_retries(\u001b[33m\"\u001b[39m\u001b[33mPOST\u001b[39m\u001b[33m\"\u001b[39m, \u001b[33m\"\u001b[39m\u001b[33m/repos/\u001b[39m\u001b[33m\"\u001b[39m, json=json)\n",
      "\u001b[31mLangSmithUserError\u001b[39m: Cannot create a prompt for another tenant.\nCurrent tenant: None,\nRequested tenant: gaida"
     ]
    }
   ],
   "source": [
    "prompt = PromptTemplate.from_template(\n",
    "    '시작은 미약하지만 끝은 창대하리'\n",
    ")\n",
    "\n",
    "hub.push('gaida/prompt-hub-test', prompt)"
   ]
  }
 ],
 "metadata": {
  "kernelspec": {
   "display_name": "Python 3",
   "language": "python",
   "name": "python3"
  },
  "language_info": {
   "codemirror_mode": {
    "name": "ipython",
    "version": 3
   },
   "file_extension": ".py",
   "mimetype": "text/x-python",
   "name": "python",
   "nbconvert_exporter": "python",
   "pygments_lexer": "ipython3",
   "version": "3.13.2"
  }
 },
 "nbformat": 4,
 "nbformat_minor": 5
}
