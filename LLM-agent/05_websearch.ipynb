{
 "cells": [
  {
   "cell_type": "markdown",
   "id": "946d2707",
   "metadata": {},
   "source": [
    "# Tavily Web Search\n",
    "- LLM에게 웹검색을 쥐어주자"
   ]
  },
  {
   "cell_type": "code",
   "execution_count": null,
   "id": "435e42a2",
   "metadata": {},
   "outputs": [],
   "source": [
    "%pip install -q langchain-tavily"
   ]
  },
  {
   "cell_type": "code",
   "execution_count": 6,
   "id": "e33184e1",
   "metadata": {},
   "outputs": [
    {
     "data": {
      "text/plain": [
       "True"
      ]
     },
     "execution_count": 6,
     "metadata": {},
     "output_type": "execute_result"
    }
   ],
   "source": [
    "from dotenv import load_dotenv\n",
    "from pprint import pprint\n",
    "\n",
    "load_dotenv()"
   ]
  },
  {
   "cell_type": "code",
   "execution_count": 7,
   "id": "1118d30d",
   "metadata": {},
   "outputs": [],
   "source": [
    "from langchain_tavily import TavilySearch   \n",
    "\n",
    "search_tool = TavilySearch(\n",
    "    max_results=5,\n",
    "    topic=\"general\",\n",
    "    search_depth=\"basic\",\n",
    "    # time_range=\"day\",\n",
    "    # include_domains=None,\n",
    "    # exclude_domains=None\n",
    ")"
   ]
  },
  {
   "cell_type": "code",
   "execution_count": 8,
   "id": "e434d415",
   "metadata": {},
   "outputs": [
    {
     "name": "stdout",
     "output_type": "stream",
     "text": [
      "{'answer': None,\n",
      " 'follow_up_questions': None,\n",
      " 'images': [],\n",
      " 'query': '강남 신세계에서 밥먹을만한 곳 알려줘',\n",
      " 'request_id': 'd841f09c-0962-41dd-812c-a5e6982c9941',\n",
      " 'response_time': 0.91,\n",
      " 'results': [{'content': 'Missing: 밥 알려줘',\n",
      "              'raw_content': None,\n",
      "              'score': 0.71948266,\n",
      "              'title': '강남 신세계 푸드코트 하우스오브 신세계,스위트파크(Eng CC)/ Seoul ...',\n",
      "              'url': 'https://www.youtube.com/watch?v=wRvUnu8OwWI'},\n",
      "             {'content': \"'강남신세계백화점 밥' 맛집 연남토마 고속터미널점(덮밥, ☆3.9), 로봇김밥 \"\n",
      "                         '강남고속터미널점(김밥, ☆3.7), 소녀방앗간 서울고속터미널점(산나물밥, ☆4.3) 등 '\n",
      "                         '80곳의',\n",
      "              'raw_content': None,\n",
      "              'score': 0.7152057,\n",
      "              'title': \"'강남신세계백화점 밥' 맛집 빅데이터 추천순위 Top80 - 다이닝코드\",\n",
      "              'url': 'https://www.diningcode.com/list.dc?query=%EA%B0%95%EB%82%A8%EC%8B%A0%EC%84%B8%EA%B3%84%EB%B0%B1%ED%99%94%EC%A0%90+%EB%B0%A5'},\n",
      "             {'content': 'Missing: 밥 알려줘',\n",
      "              'raw_content': None,\n",
      "              'score': 0.694241,\n",
      "              'title': '가족들과 집에서 딱 먹기 좋은! 신세계백화점 강남점&본점 easy-pick ...',\n",
      "              'url': 'https://blog.naver.com/greenclover120/223605678888?viewType=pc'},\n",
      "             {'content': '1. 더 마고 그릴 신세계강남 · 2. 모던눌랑 강남고속터미널 · 3. 에토레 파미에스테이션 '\n",
      "                         '· 4. 자주테이블 신세계강남 · 5. 쓰리버즈 센트럴시티점 · 6. 더 키친 일뽀르노 신세계',\n",
      "              'raw_content': None,\n",
      "              'score': 0.6907474,\n",
      "              'title': \"'강남신세계백화점 레스토랑' 맛집 빅데이터 추천순위 Top10\",\n",
      "              'url': 'https://www.diningcode.com/list.dc?query=%EA%B0%95%EB%82%A8%EC%8B%A0%EC%84%B8%EA%B3%84%EB%B0%B1%ED%99%94%EC%A0%90%20%EB%A0%88%EC%8A%A4%ED%86%A0%EB%9E%91'},\n",
      "             {'content': '신세계 팩토리스토어 신세계 스타일마켓 신세계 푸드마켓 * 신세계 브랜드 신세계 아카데미;) '\n",
      "                         '신세계 온 아카데미 신세계 문화홀 신세계 VIP 클럽 + 혜택 안내 + 신세계 카드 * 신세계 '\n",
      "                         '아카데미 * 신세계 아카데미 * 신세계 문화홀 * 신세계 VIP 클럽 MY 신세계 MY 신세계 '\n",
      "                         '정상영업 10:30~20:00 연장영업 10:30~20:30 식당가영업 11:00~21:30 '\n",
      "                         '식당가 주문 마감 폐점 30분 전(단, 재료 소진 시 조기 마감 가능)  [하우스 오브 '\n",
      "                         '신세계] 주중/주말 10:30~22:00 \\\\* 주문 마감 1시간 전(단, 재료 소진 시 조기 '\n",
      "                         '마감 가능)  [B1 까사빠보/렌위치/브라우터/파이브가이즈] 10:30-21:00 (연장 영업 '\n",
      "                         '10:30-21:30), [B1 %아라비카] 10:30-21:00 [신세계 팩토리스토어 '\n",
      "                         '강남점] 주중/주말 11:00~21:00  [신세계 푸드마켓 도곡점] 주중/주말 '\n",
      "                         '10:30~22:00 (둘째, 넷째 주 일요일 정기휴점) \\\\* 서울 강남구 언주로30길 '\n",
      "                         '57  [파미에스테이션] 연중무휴 \\\\* 병원, 약국, 미용실, 비식음매장 등 일부 매장은 '\n",
      "                         '휴점 (매장별 휴점일 상이)',\n",
      "              'raw_content': None,\n",
      "              'score': 0.6664756,\n",
      "              'title': '레스토랑 | 강남점 - 신세계백화점',\n",
      "              'url': 'https://www.shinsegae.com/store/restaurant.do'}]}\n"
     ]
    }
   ],
   "source": [
    "pprint(search_tool.invoke({'query': '강남 신세계에서 밥먹을만한 곳 알려줘'}))"
   ]
  },
  {
   "cell_type": "code",
   "execution_count": 9,
   "id": "5f6ad145",
   "metadata": {},
   "outputs": [
    {
     "data": {
      "text/plain": [
       "'강남 신세계 백화점 내에서 점심을 맛있게 드시려면, 타치바나(한국요리), 포비 강남점, 베통 신세계백화점 강남점, 일상정원 센트럴시티점 등 다양한 추천 맛집이 있습니다. 특히, 신세계백화점 지하 1층에 위치한 타치바나는 일본 요리와 퓨전 요리를 즐기실 수 있어 좋습니다. 간단하게 식사하실 경우, 101번지남산돈까스(돈까스), 한우리 센트럴시티점(한우 국수전골), 모스버거 센트럴시티점(버거)도 추천드립니다.'"
      ]
     },
     "execution_count": 9,
     "metadata": {},
     "output_type": "execute_result"
    }
   ],
   "source": [
    "from langchain.prompts import PromptTemplate\n",
    "from langchain_openai import ChatOpenAI\n",
    "from langchain_core.output_parsers import StrOutputParser\n",
    "from langchain_core.runnables import RunnableLambda, RunnablePassthrough\n",
    "\n",
    "llm = ChatOpenAI(model='gpt-4.1-nano')\n",
    "\n",
    "prompt = PromptTemplate(\n",
    "    input_variables=['query', 'search_results'],\n",
    "    template=\"\"\"넌 웹 검색결과를 요약해서 사용자의 질문에 맞게 좋은 답을 해주는 챗봇이야.\n",
    "\n",
    "    질문: {query}\n",
    "    검색결과: {search_results}\n",
    "    질문에 맞는 답을 검색결과 바탕으로 간단하게 알려줘\n",
    "    \"\"\"\n",
    ")\n",
    "\n",
    "chain = (\n",
    "    {\n",
    "        'query': RunnablePassthrough(),  # 사용자 입력 그대로 이 자리에 들어옴\n",
    "        'search_results': search_tool | RunnableLambda(\n",
    "            lambda x: '\\n'.join(\n",
    "                [f'-{r['title']} ({r['content']})' for r in x['results']]\n",
    "            )\n",
    "        )\n",
    "    }\n",
    "    | prompt\n",
    "    | llm\n",
    "    | StrOutputParser()\n",
    ")\n",
    "\n",
    "chain.invoke('강남 신세계에서 점심 먹기 좋은곳')"
   ]
  },
  {
   "cell_type": "code",
   "execution_count": 10,
   "id": "08b96bb9",
   "metadata": {},
   "outputs": [
    {
     "data": {
      "text/plain": [
       "'강남 신세계 백화점 내에서는 다양한 레스토랑과 카페가 있어 점심시간에 적합한 곳이 많습니다. 예를 들면, 한식을 원하시면 한식당이나 퓨전 한식을, 일식을 원하시면 일식 레스토랑을 추천드릴 수 있습니다. 특히, 신세계 백화점 10층이나 11층에 위치한 푸드코트와 레스토랑이 편리하고 맛도 좋아 점심 식사하기에 좋습니다.'"
      ]
     },
     "execution_count": 10,
     "metadata": {},
     "output_type": "execute_result"
    }
   ],
   "source": [
    "dumb_chain = prompt | llm | StrOutputParser()\n",
    "\n",
    "dumb_chain.invoke({'query': '강남 신세계에서 점심먹기 좋은곳', 'search_results': ''})"
   ]
  },
  {
   "cell_type": "code",
   "execution_count": 11,
   "id": "cd36205f",
   "metadata": {},
   "outputs": [
    {
     "name": "stderr",
     "output_type": "stream",
     "text": [
      "C:\\Users\\user\\AppData\\Local\\Temp\\ipykernel_13128\\2464979423.py:20: LangChainDeprecationWarning: Please see the migration guide at: https://python.langchain.com/docs/versions/migrating_memory/\n",
      "  memory = ConversationBufferMemory(\n"
     ]
    }
   ],
   "source": [
    "from langchain.agents import create_openai_tools_agent, AgentExecutor\n",
    "from langchain_core.prompts import ChatPromptTemplate, MessagesPlaceholder\n",
    "from langchain.memory import ConversationBufferMemory\n",
    "from datetime import datetime\n",
    "\n",
    "today = datetime.today().strftime('%D')\n",
    "\n",
    "search_tool = TavilySearch(\n",
    "    max_results=5,\n",
    "    topic='general'\n",
    ")\n",
    "\n",
    "prompt = ChatPromptTemplate.from_messages([\n",
    "    ('system', f'너는 훌륭한 어시스턴트야. 반드시 웹 검색도구를 사용해서 정보를 얻어. 최대한 답을 잘 해보자. 오늘은 {today}야.'),\n",
    "    MessagesPlaceholder(variable_name='chat_history'),\n",
    "    ('human', '{input}'),\n",
    "    MessagesPlaceholder(variable_name='agent_scratchpad')  # 도구(검색) 호출때 필요함\n",
    "])\n",
    "\n",
    "memory = ConversationBufferMemory(\n",
    "    return_messages=True,\n",
    "    memory_key='chat_history'\n",
    ")\n",
    "\n",
    "agent = create_openai_tools_agent(\n",
    "    llm=llm,\n",
    "    tools=[search_tool],\n",
    "    prompt=prompt,\n",
    ")\n",
    "\n",
    "agent_executor = AgentExecutor(agent=agent, memory=memory, tools=[search_tool], verbose=True)\n",
    "\n"
   ]
  },
  {
   "cell_type": "code",
   "execution_count": 12,
   "id": "acd4efe1",
   "metadata": {},
   "outputs": [
    {
     "name": "stdout",
     "output_type": "stream",
     "text": [
      "\n",
      "\n",
      "\u001b[1m> Entering new AgentExecutor chain...\u001b[0m\n",
      "\u001b[32;1m\u001b[1;3m반가워, 승은이! 어떻게 도와줄까?\u001b[0m\n",
      "\n",
      "\u001b[1m> Finished chain.\u001b[0m\n"
     ]
    },
    {
     "data": {
      "text/plain": [
       "{'input': '아냐 나는 승은이야',\n",
       " 'chat_history': [HumanMessage(content='아냐 나는 승은이야', additional_kwargs={}, response_metadata={}),\n",
       "  AIMessage(content='반가워, 승은이! 어떻게 도와줄까?', additional_kwargs={}, response_metadata={})],\n",
       " 'output': '반가워, 승은이! 어떻게 도와줄까?'}"
      ]
     },
     "execution_count": 12,
     "metadata": {},
     "output_type": "execute_result"
    }
   ],
   "source": [
    "agent_executor.invoke({'input': '아냐 나는 승은이야'})"
   ]
  }
 ],
 "metadata": {
  "kernelspec": {
   "display_name": "Python 3",
   "language": "python",
   "name": "python3"
  },
  "language_info": {
   "codemirror_mode": {
    "name": "ipython",
    "version": 3
   },
   "file_extension": ".py",
   "mimetype": "text/x-python",
   "name": "python",
   "nbconvert_exporter": "python",
   "pygments_lexer": "ipython3",
   "version": "3.13.2"
  }
 },
 "nbformat": 4,
 "nbformat_minor": 5
}
