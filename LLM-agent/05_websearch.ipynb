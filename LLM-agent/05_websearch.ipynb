{
 "cells": [
  {
   "cell_type": "markdown",
   "id": "946d2707",
   "metadata": {},
   "source": [
    "# Tavily Web Search\n",
    "- LLM에게 웹검색을 쥐어주자"
   ]
  },
  {
   "cell_type": "code",
   "execution_count": 33,
   "id": "435e42a2",
   "metadata": {},
   "outputs": [
    {
     "name": "stdout",
     "output_type": "stream",
     "text": [
      "Note: you may need to restart the kernel to use updated packages.\n"
     ]
    },
    {
     "name": "stderr",
     "output_type": "stream",
     "text": [
      "\n",
      "[notice] A new release of pip is available: 24.3.1 -> 25.2\n",
      "[notice] To update, run: python.exe -m pip install --upgrade pip\n"
     ]
    }
   ],
   "source": [
    "%pip install -q langchain-tavily"
   ]
  },
  {
   "cell_type": "code",
   "execution_count": 1,
   "id": "e33184e1",
   "metadata": {},
   "outputs": [
    {
     "data": {
      "text/plain": [
       "True"
      ]
     },
     "execution_count": 1,
     "metadata": {},
     "output_type": "execute_result"
    }
   ],
   "source": [
    "from dotenv import load_dotenv\n",
    "from pprint import pprint\n",
    "\n",
    "load_dotenv()"
   ]
  },
  {
   "cell_type": "code",
   "execution_count": 2,
   "id": "1118d30d",
   "metadata": {},
   "outputs": [],
   "source": [
    "from langchain_tavily import TavilySearch   \n",
    "\n",
    "search_tool = TavilySearch(\n",
    "    max_results=5,\n",
    "    topic=\"general\",\n",
    "    search_depth=\"basic\",\n",
    "    # time_range=\"day\",\n",
    "    # include_domains=None,\n",
    "    # exclude_domains=None\n",
    ")"
   ]
  },
  {
   "cell_type": "code",
   "execution_count": 3,
   "id": "e434d415",
   "metadata": {},
   "outputs": [
    {
     "name": "stdout",
     "output_type": "stream",
     "text": [
      "{'answer': None,\n",
      " 'follow_up_questions': None,\n",
      " 'images': [],\n",
      " 'query': '강남 신세계에서 밥먹을만한 곳 알려줘',\n",
      " 'request_id': 'eef767a4-2397-4799-b783-7afd524b722c',\n",
      " 'response_time': 1.13,\n",
      " 'results': [{'content': '강남신세계 혼밥맛집 (106곳) · 1. 소녀방앗간 서울고속터미널점 · 2. 타코벨 '\n",
      "                         '서울고속버스터미널점 · 3. 소이연남 파미에스테이션점 · 4. 갓덴스시 센트럴시티점 · 5. '\n",
      "                         '101번지',\n",
      "              'raw_content': None,\n",
      "              'score': 0.7304634,\n",
      "              'title': \"'강남신세계 혼밥' 맛집 빅데이터 추천순위 Top100\",\n",
      "              'url': 'https://www.diningcode.com/list.dc?query=%EA%B0%95%EB%82%A8%EC%8B%A0%EC%84%B8%EA%B3%84%20%ED%98%BC%EB%B0%A5'},\n",
      "             {'content': '1. 더 마고 그릴 신세계강남 · 2. 모던눌랑 강남고속터미널 · 3. 에토레 파미에스테이션 '\n",
      "                         '· 4. 자주테이블 신세계강남 · 5. 쓰리버즈 센트럴시티점 · 6. 더 키친 일뽀르노 신세계',\n",
      "              'raw_content': None,\n",
      "              'score': 0.6907474,\n",
      "              'title': \"'강남신세계백화점 레스토랑' 맛집 빅데이터 추천순위 Top10\",\n",
      "              'url': 'https://www.diningcode.com/list.dc?query=%EA%B0%95%EB%82%A8%EC%8B%A0%EC%84%B8%EA%B3%84%EB%B0%B1%ED%99%94%EC%A0%90%20%EB%A0%88%EC%8A%A4%ED%86%A0%EB%9E%91'},\n",
      "             {'content': '신세계 팩토리스토어 신세계 스타일마켓 신세계 푸드마켓 * 신세계 브랜드 신세계 아카데미;) '\n",
      "                         '신세계 온 아카데미 신세계 문화홀 신세계 VIP 클럽 + 혜택 안내 + 신세계 카드 * 신세계 '\n",
      "                         '아카데미 * 신세계 아카데미 * 신세계 문화홀 * 신세계 VIP 클럽 MY 신세계 MY 신세계 '\n",
      "                         '정상영업 10:30~20:00 연장영업 10:30~20:30 식당가영업 11:00~21:30 '\n",
      "                         '식당가 주문 마감 폐점 30분 전(단, 재료 소진 시 조기 마감 가능)  [하우스 오브 '\n",
      "                         '신세계] 주중/주말 10:30~22:00 \\\\* 주문 마감 1시간 전(단, 재료 소진 시 조기 '\n",
      "                         '마감 가능)  [B1 까사빠보/렌위치/브라우터/파이브가이즈] 10:30-21:00 (연장 영업 '\n",
      "                         '10:30-21:30), [B1 %아라비카] 10:30-21:00 [신세계 팩토리스토어 '\n",
      "                         '강남점] 주중/주말 11:00~21:00  [신세계 푸드마켓 도곡점] 주중/주말 '\n",
      "                         '10:30~22:00 (둘째, 넷째 주 일요일 정기휴점) \\\\* 서울 강남구 언주로30길 '\n",
      "                         '57  [파미에스테이션] 연중무휴 \\\\* 병원, 약국, 미용실, 비식음매장 등 일부 매장은 '\n",
      "                         '휴점 (매장별 휴점일 상이)',\n",
      "              'raw_content': None,\n",
      "              'score': 0.6407488,\n",
      "              'title': '레스토랑 | 강남점',\n",
      "              'url': 'https://www.shinsegae.com/store/restaurant.do'},\n",
      "             {'content': '오목집은 세계에서 가장 쬘깃쬘깃하고 막국수가 맛있는 족발집이랍니다... 여기의 비밀병기는 '\n",
      "                         '막국수랍니다 막국수를 꼭 같이 드셔야해요!',\n",
      "              'raw_content': None,\n",
      "              'score': 0.6139086,\n",
      "              'title': '가족들과 집에서 딱 먹기 좋은! 신세계백화점 강남점&본점 ...',\n",
      "              'url': 'https://blog.naver.com/greenclover120/223605678888?viewType=pc'},\n",
      "             {'content': '서울 신세계 강남점 근처 맛집 Best 10 - Tripadvisor 서울 서울 음식점 '\n",
      "                         'Best 서울 신세계 강남점 근처 맛집 서울  ### 요리 서울 서울 소재 최고의 아침식사 '\n",
      "                         '음식점서울 소재 점심 식사 가능한 음식점서울 소재 저녁 식사 가능한 음식점서울 소재 심야 '\n",
      "                         '음식점서울 소재 저렴한 음식점서울 소재 배달 음식점서울 소재 특별한 날을 위한 음식점서울 소재 '\n",
      "                         '그룹 식사가 가능한 음식점서울 소재 전망이 아름다운 음식점서울 소재 프라이빗 다이닝 음식점커피 '\n",
      "                         '및 차(서울 소재)베이커리(서울 소재)디저트(서울 소재) 호텔 나루 서울 엠갤러리 앰배서더 '\n",
      "                         '근처 음식점JW 메리어트 호텔 서울 근처 음식점머큐어 앰배서더 서울 마곡 근처 음식점글래드 '\n",
      "                         '마포 근처 음식점호텔 스카이파크 명동 1 근처 음식점Fairmont Ambassador '\n",
      "                         'Seoul 근처 음식점소피텔 앰배서더 서울 호텔 & 서비스드 레지던스 근처 음식점호텔 피제이 '\n",
      "                         '명동 근처 음식점글래드 강남 코엑스 센터 근처 음식점글래드 호텔 여의도 근처 음식점',\n",
      "              'raw_content': None,\n",
      "              'score': 0.5993685,\n",
      "              'title': '서울 신세계 강남점 근처 맛집 Best 10 - Tripadvisor',\n",
      "              'url': 'https://www.tripadvisor.co.kr/RestaurantsNear-g294197-d9755552-Shinsegae_Gangnam-Seoul.html'}]}\n"
     ]
    }
   ],
   "source": [
    "pprint(search_tool.invoke({'query': '강남 신세계에서 밥먹을만한 곳 알려줘'}))"
   ]
  },
  {
   "cell_type": "code",
   "execution_count": 4,
   "id": "5f6ad145",
   "metadata": {},
   "outputs": [
    {
     "data": {
      "text/plain": [
       "\"강남 신세계백화점에서 점심 식사로 추천할 만한 곳으로는 '101번지남산돈까스'와 '한우리 센트럴시티점'이 있습니다. 돈까스와 한우국수전골 맛집으로 평이 좋고, 캐주얼하게 즐기기 좋아요. 또한, 신세계백화점 내 다양한 식당과 맛집들도 있으니 쇼핑과 함께 즐기기 좋습니다.\""
      ]
     },
     "execution_count": 4,
     "metadata": {},
     "output_type": "execute_result"
    }
   ],
   "source": [
    "from langchain.prompts import PromptTemplate\n",
    "from langchain_openai import ChatOpenAI\n",
    "from langchain_core.output_parsers import StrOutputParser\n",
    "from langchain_core.runnables import RunnableLambda, RunnablePassthrough\n",
    "\n",
    "llm = ChatOpenAI(model='gpt-4.1-nano')\n",
    "\n",
    "prompt = PromptTemplate(\n",
    "    input_variables=['query', 'search_results'],\n",
    "    template=\"\"\"넌 웹 검색결과를 요약해서 사용자의 질문에 맞게 좋은 답을 해주는 챗봇이야.\n",
    "\n",
    "    질문: {query}\n",
    "    검색결과: {search_results}\n",
    "    질문에 맞는 답을 검색결과 바탕으로 간단하게 알려줘\n",
    "    \"\"\"\n",
    ")\n",
    "\n",
    "chain = (\n",
    "    {\n",
    "        'query': RunnablePassthrough(),  # 사용자 입력 그대로 이 자리에 들어옴\n",
    "        'search_results': search_tool | RunnableLambda(\n",
    "            lambda x: '\\n'.join(\n",
    "                [f'-{r['title']} ({r['content']})' for r in x['results']]\n",
    "            )\n",
    "        )\n",
    "    }\n",
    "    | prompt\n",
    "    | llm\n",
    "    | StrOutputParser()\n",
    ")\n",
    "\n",
    "chain.invoke('강남 신세계에서 점심 먹기 좋은곳')"
   ]
  },
  {
   "cell_type": "code",
   "execution_count": 49,
   "id": "08b96bb9",
   "metadata": {},
   "outputs": [
    {
     "data": {
      "text/plain": [
       "'강남 신세계에서 점심 먹기 좋은 곳으로는 다양한 레스토랑이 있는데, 대표적으로 한식, 일식, 양식 등을 즐길 수 있는 곳들이 있습니다. 특히, 신세계백화점 내에 위치한 레스토랑들과 주변 인기 맛집들을 고려하면, 깔끔하고 다양한 메뉴를 제공하는 곳을 선택하시면 좋을 것 같아요. 만약 구체적인 추천이 필요하시면 더 알려드릴게요!'"
      ]
     },
     "execution_count": 49,
     "metadata": {},
     "output_type": "execute_result"
    }
   ],
   "source": [
    "dumb_chain = prompt | llm | StrOutputParser()\n",
    "\n",
    "dumb_chain.invoke({'query': '강남 신세계에서 점심먹기 좋은곳', 'search_results': ''})"
   ]
  },
  {
   "cell_type": "code",
   "execution_count": 38,
   "id": "cd36205f",
   "metadata": {},
   "outputs": [],
   "source": [
    "from langchain.agents import create_openai_tools_agent, AgentExecutor\n",
    "from langchain_core.prompts import ChatPromptTemplate, MessagesPlaceholder\n",
    "from langchain.memory import ConversationBufferMemory\n",
    "from datetime import datetime\n",
    "\n",
    "today = datetime.today().strftime('%D')\n",
    "\n",
    "search_tool = TavilySearch(\n",
    "    max_results=5,\n",
    "    topic='general'\n",
    ")\n",
    "\n",
    "prompt = ChatPromptTemplate.from_messages([\n",
    "    ('system', f'너는 훌륭한 어시스턴트야. 반드시 웹 검색도구를 사용해서 정보를 얻어. 최대한 답을 잘 해보자. 오늘은 {today}야.'),\n",
    "    MessagesPlaceholder(variable_name='chat_history'),\n",
    "    ('human', '{input}'),\n",
    "    MessagesPlaceholder(variable_name='agent_scratchpad')  # 도구(검색) 호출때 필요함\n",
    "])\n",
    "\n",
    "memory = ConversationBufferMemory(\n",
    "    return_messages=True,\n",
    "    memory_key='chat_history'\n",
    ")\n",
    "\n",
    "agent = create_openai_tools_agent(\n",
    "    llm=llm,\n",
    "    tools=[search_tool],\n",
    "    prompt=prompt,\n",
    ")\n",
    "\n",
    "agent_executor = AgentExecutor(agent=agent, memory=memory, tools=[search_tool], verbose=True)\n",
    "\n"
   ]
  },
  {
   "cell_type": "code",
   "execution_count": 51,
   "id": "12684523",
   "metadata": {},
   "outputs": [
    {
     "name": "stdout",
     "output_type": "stream",
     "text": [
      "\n",
      "\n",
      "\u001b[1m> Entering new AgentExecutor chain...\u001b[0m\n",
      "\u001b[32;1m\u001b[1;3m반가워, 승은이님! 오늘 무엇을 도와드릴까요?\u001b[0m\n",
      "\n",
      "\u001b[1m> Finished chain.\u001b[0m\n"
     ]
    },
    {
     "data": {
      "text/plain": [
       "{'input': '나는 승은이야',\n",
       " 'chat_history': [HumanMessage(content='나는 유태영이야', additional_kwargs={}, response_metadata={}),\n",
       "  AIMessage(content='반가워, 유태영님! 오늘 어떤 도움을 드릴까요?', additional_kwargs={}, response_metadata={}),\n",
       "  HumanMessage(content='나는 승은이야', additional_kwargs={}, response_metadata={}),\n",
       "  AIMessage(content='반가워, 승은님! 어떤 도움이나 궁금한 점이 있으시면 말씀해 주세요.', additional_kwargs={}, response_metadata={}),\n",
       "  HumanMessage(content='나는 승은이야', additional_kwargs={}, response_metadata={}),\n",
       "  AIMessage(content='반가워, 승은이님! 오늘 무엇을 도와드릴까요?', additional_kwargs={}, response_metadata={})],\n",
       " 'output': '반가워, 승은이님! 오늘 무엇을 도와드릴까요?'}"
      ]
     },
     "execution_count": 51,
     "metadata": {},
     "output_type": "execute_result"
    }
   ],
   "source": [
    "agent_executor.invoke({'input': '나는 승은이야'})"
   ]
  }
 ],
 "metadata": {
  "kernelspec": {
   "display_name": "Python 3",
   "language": "python",
   "name": "python3"
  },
  "language_info": {
   "codemirror_mode": {
    "name": "ipython",
    "version": 3
   },
   "file_extension": ".py",
   "mimetype": "text/x-python",
   "name": "python",
   "nbconvert_exporter": "python",
   "pygments_lexer": "ipython3",
   "version": "3.13.2"
  }
 },
 "nbformat": 4,
 "nbformat_minor": 5
}
