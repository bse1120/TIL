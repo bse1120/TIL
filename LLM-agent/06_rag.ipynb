{
 "cells": [
  {
   "cell_type": "markdown",
   "id": "60efe21f",
   "metadata": {},
   "source": [
    "# RAG(검색-증강 생성) Retrieval-Augmented Generation\n",
    "- LLM이 외부 데이터를 컨텍스트로 활용."
   ]
  },
  {
   "cell_type": "code",
   "execution_count": 2,
   "id": "9b818bfd",
   "metadata": {},
   "outputs": [
    {
     "data": {
      "text/plain": [
       "True"
      ]
     },
     "execution_count": 2,
     "metadata": {},
     "output_type": "execute_result"
    }
   ],
   "source": [
    "from dotenv import load_dotenv\n",
    "load_dotenv()"
   ]
  },
  {
   "cell_type": "code",
   "execution_count": 3,
   "id": "575c4aa6",
   "metadata": {},
   "outputs": [],
   "source": [
    "from langchain_core.documents import Document\n",
    "\n",
    "documents = [\n",
    "    Document(\n",
    "        page_content=\"Dogs are great companions, known for their loyalty and friendliness.\",\n",
    "        metadata={\"source\": \"mammal-pets-doc\"},\n",
    "    ),\n",
    "    Document(\n",
    "        page_content=\"Cats are independent pets that often enjoy their own space.\",\n",
    "        metadata={\"source\": \"mammal-pets-doc\"},\n",
    "    ),\n",
    "    Document(\n",
    "        page_content=\"Goldfish are popular pets for beginners, requiring relatively simple care.\",\n",
    "        metadata={\"source\": \"fish-pets-doc\"},\n",
    "    ),\n",
    "    Document(\n",
    "        page_content=\"Parrots are intelligent birds capable of mimicking human speech.\",\n",
    "        metadata={\"source\": \"bird-pets-doc\"},\n",
    "    ),\n",
    "    Document(\n",
    "        page_content=\"Rabbits are social animals that need plenty of space to hop around.\",\n",
    "        metadata={\"source\": \"mammal-pets-doc\"},\n",
    "    ),\n",
    "]"
   ]
  },
  {
   "cell_type": "code",
   "execution_count": 4,
   "id": "5e20a18e",
   "metadata": {},
   "outputs": [
    {
     "name": "stdout",
     "output_type": "stream",
     "text": [
      "Note: you may need to restart the kernel to use updated packages.\n"
     ]
    },
    {
     "name": "stderr",
     "output_type": "stream",
     "text": [
      "\n",
      "[notice] A new release of pip is available: 24.3.1 -> 25.2\n",
      "[notice] To update, run: python.exe -m pip install --upgrade pip\n"
     ]
    }
   ],
   "source": [
    "%pip install -q \"langchain_chroma>=0.1.2\" langchain_community faiss-cpu"
   ]
  },
  {
   "cell_type": "code",
   "execution_count": 5,
   "id": "b0c7022b",
   "metadata": {},
   "outputs": [],
   "source": [
    "from langchain_openai import OpenAIEmbeddings\n",
    "from langchain_chroma import Chroma\n",
    "\n",
    "# OpenAI 임베딩 모델\n",
    "embedding = OpenAIEmbeddings(model='text-embedding-3-small')\n",
    "\n",
    "# x = embedding.embed_query('점심 배불리 먹었더니 졸리다..')\n",
    "# print(len(x), x)\n",
    "\n",
    "# VectorStore 에 임베딩 후 저장(In memory)\n",
    "vectorstore = Chroma.from_documents(\n",
    "    documents,\n",
    "    embedding=embedding\n",
    ")"
   ]
  },
  {
   "cell_type": "code",
   "execution_count": 6,
   "id": "d3fa2cca",
   "metadata": {},
   "outputs": [
    {
     "data": {
      "text/plain": [
       "[Document(id='4fcb9946-587e-4b4e-a11f-80c71251c158', metadata={'source': 'fish-pets-doc'}, page_content='Goldfish are popular pets for beginners, requiring relatively simple care.'),\n",
       " Document(id='f297b1be-1062-4671-baa5-b96271b5a50e', metadata={'source': 'mammal-pets-doc'}, page_content='Dogs are great companions, known for their loyalty and friendliness.')]"
      ]
     },
     "execution_count": 6,
     "metadata": {},
     "output_type": "execute_result"
    }
   ],
   "source": [
    "vectorstore.similarity_search(\n",
    "    '초보자가 키우기 좋은 애완동물 추천해줘', k=2\n",
    ")"
   ]
  },
  {
   "cell_type": "markdown",
   "id": "5c3e5bdc",
   "metadata": {},
   "source": [
    "## 사전처리 단계\n",
    "1. 문서 불러오기 (Loading)\n",
    "2. 텍스트 나누기 (Splitting)\n",
    "3. 숫자로 바꾸기 (Embedding)\n",
    "4. 저장하기 (VectorStore)"
   ]
  },
  {
   "cell_type": "code",
   "execution_count": 7,
   "id": "07ada3d4",
   "metadata": {},
   "outputs": [
    {
     "name": "stdout",
     "output_type": "stream",
     "text": [
      "Note: you may need to restart the kernel to use updated packages.\n"
     ]
    },
    {
     "name": "stderr",
     "output_type": "stream",
     "text": [
      "\n",
      "[notice] A new release of pip is available: 24.3.1 -> 25.2\n",
      "[notice] To update, run: python.exe -m pip install --upgrade pip\n"
     ]
    }
   ],
   "source": [
    "%pip install -q pymupdf"
   ]
  },
  {
   "cell_type": "code",
   "execution_count": 8,
   "id": "5b2d8c69",
   "metadata": {},
   "outputs": [
    {
     "name": "stdout",
     "output_type": "stream",
     "text": [
      "원본 pdf의 장수 23\n"
     ]
    }
   ],
   "source": [
    "# 1. Load\n",
    "from langchain_community.document_loaders import PyMuPDFLoader\n",
    "\n",
    "loader = PyMuPDFLoader('./data/spri.pdf')\n",
    "docs = loader.load()\n",
    "\n",
    "\n",
    "print('원본 pdf의 장수', len(docs))"
   ]
  },
  {
   "cell_type": "code",
   "execution_count": 9,
   "id": "33b59ee4",
   "metadata": {},
   "outputs": [
    {
     "name": "stdout",
     "output_type": "stream",
     "text": [
      "분할 후 청크 수 72\n"
     ]
    }
   ],
   "source": [
    "# 2. Split\n",
    "from langchain_text_splitters import RecursiveCharacterTextSplitter\n",
    "\n",
    "# 500글자당 1 청크 / 50글자는 겹치게 나눈다.\n",
    "text_splitter = RecursiveCharacterTextSplitter(chunk_size=500, chunk_overlap=50)\n",
    "split_docs = text_splitter.split_documents(docs)\n",
    "\n",
    "print('분할 후 청크 수', len(split_docs))"
   ]
  },
  {
   "cell_type": "code",
   "execution_count": 10,
   "id": "82960ce9",
   "metadata": {},
   "outputs": [
    {
     "data": {
      "text/plain": [
       "[Document(id='fdd26a0c-e073-4448-ac0f-ee1b5ca3ae32', metadata={'producer': 'Hancom PDF 1.3.0.542', 'creator': 'Hwp 2018 10.0.0.13462', 'creationdate': '2023-11-09T09:40:27+09:00', 'source': './data/spri.pdf', 'file_path': './data/spri.pdf', 'total_pages': 23, 'format': 'PDF 1.4', 'title': '', 'author': 'dj', 'subject': '', 'keywords': '', 'moddate': '2023-11-09T09:40:27+09:00', 'trapped': '', 'modDate': \"D:20231109094027+09'00'\", 'creationDate': \"D:20231109094027+09'00'\", 'page': 0}, page_content='2023년 11월호'),\n",
       " Document(id='b4549a54-75a5-4ac2-9f84-6d0ad88a2cdb', metadata={'producer': 'Hancom PDF 1.3.0.542', 'creator': 'Hwp 2018 10.0.0.13462', 'creationdate': '2023-11-09T09:40:27+09:00', 'source': './data/spri.pdf', 'file_path': './data/spri.pdf', 'total_pages': 23, 'format': 'PDF 1.4', 'title': '', 'author': 'dj', 'subject': '', 'keywords': '', 'moddate': '2023-11-09T09:40:27+09:00', 'trapped': '', 'modDate': \"D:20231109094027+09'00'\", 'creationDate': \"D:20231109094027+09'00'\", 'page': 22}, page_content='홈페이지 : https://spri.kr/\\n보고서와 관련된 문의는 AI정책연구실(jayoo@spri.kr, 031-739-7352)으로 연락주시기 바랍니다.'),\n",
       " Document(id='6c9aadfb-613d-4132-933b-5d1671135ce7', metadata={'producer': 'Hancom PDF 1.3.0.542', 'creator': 'Hwp 2018 10.0.0.13462', 'creationdate': '2023-11-09T09:40:27+09:00', 'source': './data/spri.pdf', 'file_path': './data/spri.pdf', 'total_pages': 23, 'format': 'PDF 1.4', 'title': '', 'author': 'dj', 'subject': '', 'keywords': '', 'moddate': '2023-11-09T09:40:27+09:00', 'trapped': '', 'modDate': \"D:20231109094027+09'00'\", 'creationDate': \"D:20231109094027+09'00'\", 'page': 4}, page_content='미국의 AI 발전을 방해하려는 적대국들의 움직임을 경계해야 한다고 강조\\n∙그는 AI가 국가 안보에 점점 더 큰 영향을 미칠 것이라며, AI 시스템의 취약점과 위협에 대처하는 \\n방법을 파악해 적대국이 미국의 혁신적인 AI 역량을 훔칠 수 없도록 해야 한다고 지적\\n☞ 출처: U.S. Department of Defense, AI Security Center to Open at National Security Agency, 2023.09.28.\\nEngadget, The NSA has a new security center specifically for guarding against AI, 2023.09.30.'),\n",
       " Document(id='ca155511-3ddf-452b-a2a7-85c7df77bff0', metadata={'producer': 'Hancom PDF 1.3.0.542', 'creator': 'Hwp 2018 10.0.0.13462', 'creationdate': '2023-11-09T09:40:27+09:00', 'source': './data/spri.pdf', 'file_path': './data/spri.pdf', 'total_pages': 23, 'format': 'PDF 1.4', 'title': '', 'author': 'dj', 'subject': '', 'keywords': '', 'moddate': '2023-11-09T09:40:27+09:00', 'trapped': '', 'modDate': \"D:20231109094027+09'00'\", 'creationDate': \"D:20231109094027+09'00'\", 'page': 5}, page_content='1. 정책/법제  \\n2. 기업/산업 \\n3. 기술/연구 \\n 4. 인력/교육\\n 일본 정부, 2023년 말까지 AI 지침 수립 계획\\nn 일본 정부가 AI 개발과 사용 시 고려해야 할 기본 규칙을 담은 AI 지침을 수립할 계획으로, \\n현재 공개된 초안은 편향된 데이터 사용 금지, 공정성과 투명성 확보 등의 내용을 포함\\nn 일본은 2023년 G7 의장국으로서 G7 국가 간 생성 AI 거버넌스 논의도 주도하고 있으며, \\n올 하반기 G7 화상 정상회의에서 AI 개발 지침에 대한 합의를 추진\\nKEY Contents\\n£ 일본 정부, AI 개발과 사용의 기본 규칙을 제시한 AI 지침 초안 마련\\nn 일본 정부가 2023년 말까지 AI 지침을 수립할 계획으로, 일본 교도통신이 입수한 지침 초안은 \\nAI 개발과 사용에서 준수해야 할 기본 규칙을 제시\\n∙초안에 따르면 AI를 사용하는 기업은 AI에 대한 과도한 의존 위험을 줄이는 조치를 해야 하며, AI')]"
      ]
     },
     "execution_count": 10,
     "metadata": {},
     "output_type": "execute_result"
    }
   ],
   "source": [
    "# 3. 임베딩, 4. 벡터스토어 저장\n",
    "from langchain_openai import OpenAIEmbeddings\n",
    "from langchain_community.vectorstores import FAISS\n",
    "\n",
    "embedding = OpenAIEmbeddings()\n",
    "\n",
    "vectorstore = FAISS.from_documents(documents=split_docs, embedding=embedding)\n",
    "\n",
    "# Test\n",
    "vectorstore.similarity_search(\n",
    "    '미국 대통령과 관련된 문서들 가져와봐', k=4\n",
    ")"
   ]
  },
  {
   "cell_type": "markdown",
   "id": "8f90f8f2",
   "metadata": {},
   "source": [
    "## 검색 증강 단계\n",
    "1. 사용자 질문 (Query)\n",
    "2. 검색 (Retrieve)\n",
    "3. LLM \n",
    "4. 최종 답변"
   ]
  },
  {
   "cell_type": "code",
   "execution_count": 11,
   "id": "3b9476a8",
   "metadata": {},
   "outputs": [
    {
     "data": {
      "text/plain": [
       "'구글은 연말까지 차세대 멀티모달 AI ‘제미니’를 출시할 계획이며, 일부 기업을 대상으로 테스트를 진행 중입니다. 제미니는 인터넷과 구글 서비스에서 수집한 데이터를 활용하여 GPT-4보다 강점을 가지며, AI의 전력 소비와 관련된 논의도 계속되고 있습니다. 또한, 오픈AI는 최신 정보가 반영된 ‘GPT-4 터보’를 공개하고, 개발자용 API와 맞춤형 챗GPT 서비스를 제공하기 시작했습니다.'"
      ]
     },
     "execution_count": 11,
     "metadata": {},
     "output_type": "execute_result"
    }
   ],
   "source": [
    "from langchain_openai import ChatOpenAI\n",
    "from langchain_core.prompts import PromptTemplate\n",
    "from langchain_core.runnables import RunnablePassthrough\n",
    "from langchain_core.output_parsers import StrOutputParser\n",
    "\n",
    "from langchain import hub\n",
    "\n",
    "# Prompt 세팅\n",
    "prompt = hub.pull('rlm/rag-prompt')\n",
    "\n",
    "# LLM 모델\n",
    "llm = ChatOpenAI(model='gpt-4.1-nano')\n",
    "\n",
    "# 검색기 생성(retriever 생성)\n",
    "retriever = vectorstore.as_retriever()\n",
    "\n",
    "chain = (\n",
    "    {'context': retriever, 'question': RunnablePassthrough()}\n",
    "    | prompt\n",
    "    | llm\n",
    "    | StrOutputParser()\n",
    ")\n",
    "\n",
    "chain.invoke('구글 관련 소식 다 가져와')"
   ]
  },
  {
   "cell_type": "code",
   "execution_count": 12,
   "id": "59a6b613",
   "metadata": {},
   "outputs": [
    {
     "name": "stdout",
     "output_type": "stream",
     "text": [
      "Requirement already satisfied: tavily-python in c:\\users\\user\\appdata\\local\\programs\\python\\python313\\lib\\site-packages (0.7.11)\n",
      "Requirement already satisfied: requests in c:\\users\\user\\appdata\\local\\programs\\python\\python313\\lib\\site-packages (from tavily-python) (2.32.5)\n",
      "Requirement already satisfied: tiktoken>=0.5.1 in c:\\users\\user\\appdata\\local\\programs\\python\\python313\\lib\\site-packages (from tavily-python) (0.11.0)\n",
      "Requirement already satisfied: httpx in c:\\users\\user\\appdata\\local\\programs\\python\\python313\\lib\\site-packages (from tavily-python) (0.28.1)\n",
      "Requirement already satisfied: regex>=2022.1.18 in c:\\users\\user\\appdata\\local\\programs\\python\\python313\\lib\\site-packages (from tiktoken>=0.5.1->tavily-python) (2025.9.1)\n",
      "Requirement already satisfied: charset_normalizer<4,>=2 in c:\\users\\user\\appdata\\local\\programs\\python\\python313\\lib\\site-packages (from requests->tavily-python) (3.4.2)\n",
      "Requirement already satisfied: idna<4,>=2.5 in c:\\users\\user\\appdata\\local\\programs\\python\\python313\\lib\\site-packages (from requests->tavily-python) (3.10)\n",
      "Requirement already satisfied: urllib3<3,>=1.21.1 in c:\\users\\user\\appdata\\local\\programs\\python\\python313\\lib\\site-packages (from requests->tavily-python) (2.5.0)\n",
      "Requirement already satisfied: certifi>=2017.4.17 in c:\\users\\user\\appdata\\local\\programs\\python\\python313\\lib\\site-packages (from requests->tavily-python) (2025.7.9)\n",
      "Requirement already satisfied: anyio in c:\\users\\user\\appdata\\local\\programs\\python\\python313\\lib\\site-packages (from httpx->tavily-python) (4.9.0)\n",
      "Requirement already satisfied: httpcore==1.* in c:\\users\\user\\appdata\\local\\programs\\python\\python313\\lib\\site-packages (from httpx->tavily-python) (1.0.9)\n",
      "Requirement already satisfied: h11>=0.16 in c:\\users\\user\\appdata\\local\\programs\\python\\python313\\lib\\site-packages (from httpcore==1.*->httpx->tavily-python) (0.16.0)\n",
      "Requirement already satisfied: sniffio>=1.1 in c:\\users\\user\\appdata\\local\\programs\\python\\python313\\lib\\site-packages (from anyio->httpx->tavily-python) (1.3.1)\n",
      "Note: you may need to restart the kernel to use updated packages.\n"
     ]
    },
    {
     "name": "stderr",
     "output_type": "stream",
     "text": [
      "\n",
      "[notice] A new release of pip is available: 24.3.1 -> 25.2\n",
      "[notice] To update, run: python.exe -m pip install --upgrade pip\n"
     ]
    }
   ],
   "source": [
    "%pip install tavily-python"
   ]
  },
  {
   "cell_type": "code",
   "execution_count": 13,
   "id": "72dc504d",
   "metadata": {},
   "outputs": [
    {
     "name": "stdout",
     "output_type": "stream",
     "text": [
      "API 키를 사용하여 Tavily 검색 테스트를 시작합니다...\n",
      "✅ 테스트 성공! 검색 결과 일부:\n",
      "오늘 서울특별시, 대한민국의 날씨 예보 ; 최고/최저. --/21° ; 바람. 3 km/h ; 습도. 95% ; 이슬점. 22° ; 기압. 1011.5 mb.\n"
     ]
    }
   ],
   "source": [
    "# test_tavily.py\n",
    "import os\n",
    "from dotenv import load_dotenv\n",
    "from tavily import TavilyClient\n",
    "\n",
    "load_dotenv()\n",
    "\n",
    "tavily_api_key = os.getenv(\"TAVILY_API_KEY\")\n",
    "\n",
    "if not tavily_api_key:\n",
    "    print(\"🚨 .env 파일에서 TAVILY_API_KEY를 찾을 수 없습니다.\")\n",
    "else:\n",
    "    try:\n",
    "        print(\"API 키를 사용하여 Tavily 검색 테스트를 시작합니다...\")\n",
    "        client = TavilyClient(api_key=tavily_api_key)\n",
    "        response = client.search(query=\"오늘 대한민국 날씨는?\")\n",
    "        print(\"✅ 테스트 성공! 검색 결과 일부:\")\n",
    "        print(response['results'][0]['content'])\n",
    "    except Exception as e:\n",
    "        print(f\"❌ 테스트 실패! 에러 메시지: {e}\")"
   ]
  },
  {
   "cell_type": "code",
   "execution_count": 14,
   "id": "34a20d27",
   "metadata": {},
   "outputs": [
    {
     "name": "stderr",
     "output_type": "stream",
     "text": [
      "C:\\Users\\user\\AppData\\Local\\Temp\\ipykernel_16904\\3220438251.py:21: LangChainDeprecationWarning: The class `TavilySearchResults` was deprecated in LangChain 0.3.25 and will be removed in 1.0. An updated version of the class exists in the :class:`~langchain-tavily package and should be used instead. To use it run `pip install -U :class:`~langchain-tavily` and import as `from :class:`~langchain_tavily import TavilySearch``.\n",
      "  tools = [TavilySearchResults(k=5, name=\"tavily_search\")]\n"
     ]
    },
    {
     "name": "stdout",
     "output_type": "stream",
     "text": [
      "='검정고무신' 기영이 러브라인 에피소드 검색을 시작합니다...\n",
      "============================================================\n",
      "\n",
      "\n",
      "\u001b[1m> Entering new AgentExecutor chain...\u001b[0m\n",
      "\u001b[32;1m\u001b[1;3m\n",
      "Invoking: `tavily_search` with `{'query': '검정고무신 기영이 경주 에피소드'}`\n",
      "\n",
      "\n",
      "\u001b[0m\u001b[36;1m\u001b[1;3m[{'title': '검정고무신 등장인물 - 블로그 - NAVER', 'url': 'https://m.blog.naver.com/lbo666/220478990004', 'content': \"한 에피소드에서는 기영이가 바나나를 얻어먹기 위해 성철이네 외삼촌 집에 갔다가 바나나가 없어 실망하며 밤늦게 돌아오다 감기에 걸렸는데, 우연히 경주가 바나나를 얻게 되자 그것을 기영이에게 주려고 찾아온 적이 있다.\\n\\n깍쟁이처럼 보이지만 당찬 면도 있는데, 공포의 쓴맛 편에선 무시무시한 당수 실력으로 반을 휘어잡은 공옥순에게 괴롭힘 당하는 기영이를 보호해주려 하기도 한다.\\n\\n이 장면에서 기영이가 속마음으로 '경주밖에 없구나 경주야.'라고 했을 정도였으니 사실 플래그는 초반에 꽂아둔 셈.\\n\\n게다가 한 에피소드에서는 기영이네 가족에게 신붓감으로 공식으로 인정받았을 정도.  \\n  \\n  \\n  \\n  \\n  \\n김다혜\\n\\n어찌 시즌이 바뀔때마다 머리색깔이 변한다.. 1~2기 에선 보라색, 3기에선 갈색, 4기에선 검은색.\\n\\n경주와는 반대로 집이 가난한데, 마음씨가 곱다. 기영이를 좋아하며 기영이도 다혜 에게 더 잘대해 준다. [...] 애니판 1, 2기에서는 경주에 비해 별 비중은 없었으나, 3기부터 제대로 나오기 시작한다.\\n\\n3기 1화에서는 기영이와 다혜의 첫만남을 다룬 에피소드가 있는데, 등교하는 기영이가 개구리를 잡느라고 들고 있던 육성회비 봉투를 내려놓고는 깜빡 잊고 그냥 가자 그 봉투를 주워서 가져간다.\\n\\n집안 사정이 좋지 않아 부모님께 육성회비를 달라고 하기 어려워 주운 돈으로 육성회비를 내려 했던 것.\\n\\n그러나 양심 때문에 그 돈을 그냥 갖고만 있었고, 기영이가 그것 때문에 무단결석했다는 사실을 알고 담임 선생님께 찾아가 사실을 말한다. 다혜의 집안 사정을 알게 된 담임 선생님은 다혜가 육성회비를 면제받도록 도와주고, 다혜는 기영이에게 육성회비를 돌려주며 사과를 한다.\\n\\n이에 기영이는 오히려 돈은 주운 사람 임자라며 아무렇지도 않은 척 하고, 이 일을 계기로 기영이는 다혜와 친해진다.\\n\\n동생이 넷이나 있다는 언급이 있는데, 실제론 등장한적은 없다. [...] 4기 마지막에선 지현의 고모로 미래의 모습이 나온다.\\n\\n이지현\\n\\n왼쪽은 어머니가 세월이 흘러 할머니가 된 모습이다.\\n\\n기영이와 경주의 딸. 3기에 크림빵 에피소드에는 기영이랑 닮은 남자애가 나왔는데, 정황상 남자아이는 동생인듯..\\n\\n개콘의 봉숭아학당[연변총각] 코너 보고 할머니[기영이 엄마]한테 연변이 환상과 모험의 나라 라고 말한다. 나이가 나이 인지라 할머니 말을 그대로 믿는다.\\n\\n얘기를 마치고 고모인 오덕이가 아니라 하자 고모는 모른다고 반박한다.\\n\\n어머니\\n\\n기영,기철 어머니. 이름은 춘심... 인데, 정작 애니에선 언급이 전혀없고, 코믹스판에서 언급이 되는데, 어찌된영문인지 나올때마다 맨날 이름이 바뀐다... 심지어 이름개명하는 에피소드도 있다.\\n\\n애들을 엄하게 가르치나, 모든 어머니가 그렇듯이. 자식 사랑에도 매사 지극하시다! 전형적인 어머니 이지만, 사실 작중 최고 보살이다!! 성격은 과묵하고 대인적 이면서도 엄할때도 있는 편.\", 'score': 0.7339103}, {'title': '이기영(검정 고무신) - 나무위키', 'url': 'https://namu.wiki/w/%EC%9D%B4%EA%B8%B0%EC%98%81(%EA%B2%80%EC%A0%95%20%EA%B3%A0%EB%AC%B4%EC%8B%A0)', 'content': '한권에서 3분의 2가 기영이가 장난치는 에피소드일 정도로 말이다. ... 그리고 결정적으로 4기 마지막회에 기영이의 아내가 나오는데, 머리 색깔이 경주와 똑같다.', 'score': 0.6496014}, {'title': '검정 고무신/등장인물', 'url': 'https://namu.wiki/w/%EA%B2%80%EC%A0%95%20%EA%B3%A0%EB%AC%B4%EC%8B%A0/%EB%93%B1%EC%9E%A5%EC%9D%B8%EB%AC%BC', 'content': '성우는 어머니 경주, 큰아버지 이기철과 동일한 오인실. 기영, 경주의 첫째 딸 및 장녀, 기철, 오덕의 조카.[2] 4기 26화에서 개그콘서트의', 'score': 0.55709904}, {'title': '[검정고무신] 공포의 쓴맛 _ 줄거리 - 네이버 블로그', 'url': 'https://m.blog.naver.com/km7949/221964880635', 'content': '\\u200b\\n\\n어린 삼척동자들한테도 털린 이기철,,,\\n\\n동생 앞이라고 가오 잡으며 옥순이 혼내준다고 함.\\n\\nㅋㅋㅋㅋㅋㅋㅋㅋㅋㅋㅋㅋㅋㅋㅋㅋ\\n\\n비호감 쓰리탑 안에 드는 또다른 인물,, 이. 기. 철\\n\\n\\u200b\\n\\n\\u200b\\n\\n\\u200b\\n\\n\\u200b\\n\\n옥순이가 해리포터를 인상깊게 봤는지 기영이머리에 번개자국 만들어놨음.\\n\\nㅋㅋㅋㅋㅋㅋㅋㅋㅋㅋㅋㅋㅋㅋㅋ\\n\\n60년대 인기 색상,, 기영 버건디.\\n\\n\\u200b\\n\\n\\u200b\\n\\n\\u200b\\n\\n옥순이 가방셔틀 신분을 얻은 이기영.\\n\\n일면 사노비.\\n\\n\\u200b\\n\\n옥순: 내 가방 들어줘서 고맙다. 아이스케키 하나 주세요.\\n\\n\\u200b\\n\\n\\u200b\\n\\n\\u200b\\n\\n\\u200b\\n\\n뒤에서 서성거리는 다혜, 경주 아이스케키도 사주는 옥순이\\n\\n돈은 기영이가 냄.\\n\\n경주,,,, 기영이가 당해서 화는 나지만 맛은 있는 듯\\n\\nㅋㅋㅋㅋㅋㅋㅋㅋㅋㅋㅋㅋㅋㅋ\\n\\n\\u200b\\n\\n\\u200b\\n\\n\\u200b\\n\\n\\u200b\\n\\n다혜, 경주 가방까지 들어주는 자동화 기계 이기영\\n\\n머리에 놓는 스킬은 어디서 배웠냐고 ㅠ ㅋㅋㅋㅋㅋㅋㅋㅋㅋㅋ\\n\\n\\u200b\\n\\n\\u200b\\n\\n\\u200b\\n\\n\\u200b [...] 주번 달려옴.\\n\\n옥순이는 한국화된 짱구 친구 유리보단 다혜가 더 좋았는지\\n\\n유리는 보내고 다혜보고 물 떠오라고 시킴.\\n\\n\\u200b\\n\\n\\u200b\\n\\n\\u200b\\n\\n\\u200b\\n\\n어장치기 시작하는 아쿠아맨 이기영\\n\\n경주가 저번에 바나나까지 줬는데, 옥순이가 다혜 괴롭히자 좀 짜증난 듯.\\n\\n찌릿\\n\\n\\u200b\\n\\n\\u200b\\n\\n\\u200b\\n\\n\\u200b\\n\\n옥순이는 1960년대 처음으로 음성인식 자동 정수기를 만들었음.\\n\\n물가져와!!!! 하고 외치면 알아서 물 가져다주고 따라줌.\\n\\n\\u200b\\n\\n미래에서 온 소년 공옥순\\n\\n\\u200b\\n\\n\\u200b\\n\\n\\u200b\\n\\n\\u200b\\n\\n다혜가 준 물 마시고 있는데, 칠판지우개가 날아와 옥순이 머리 맞춤.\\n\\n옥순: 아, 누구야!!! 빨리 안 나와??!?!!!?!\\n\\n???: 나닷!!!!\\n\\n\\u200b\\n\\n목소리가 기영이임.\\n\\n\\u200b\\n\\n\\u200b\\n\\n\\u200b\\n\\n\\u200b\\n\\n다혜: 어머나,, 기영이 너구나. 그르치? ^^\\n\\n\\u200b\\n\\nㅋㅋㅋㅋㅋㅋㅋㅋㅋㅋㅋㅋㅋ눈새 다혜 ㅠ\\n\\n니가 기영이의 최종 선택을 못 받은 이유를 알 것 같기도 하다.\\n\\nㅋㅋㅋㅋㅋㅋㅋㅋㅋㅋㅋㅋㅋㅋㅋㅋㅋㅋㅋㅋㅋ\\n\\n\\u200b\\n\\n\\u200b\\n\\n\\u200b\\n\\n\\u200b [...] 옥순: 어,,,,\\n\\n기영: 따라봐.\\n\\n옥순: 크흐으으응\\n\\n기영: 역시 물은 남자가 따라야,,,,,,,가서 다혜랑 경주한테도 따라줘.\\n\\n\\u200b\\n\\n\\u200b\\n\\n\\u200b\\n\\n\\u200b\\n\\n기영: 안 그러면 내가 개 응가 밟고 운거 애들한테 말한다???\\n\\n아구 입 간지러워 크크크\\n\\n\\u200b\\n\\n깝치는 기영이\\n\\n\\u200b\\n\\n\\u200b\\n\\n\\u200b\\n\\n\\u200b\\n\\n다혜랑 경주한테도 물 따라주는 음성인식 자동 정수기\\n\\n\\u200b\\n\\n경주: 얘, 옥순아. 물이 차다.\\n\\n다혜: 나는 따뜻한 아이스 워터,,,\\n\\n\\u200b\\n\\n\\u200b\\n\\n\\u200b\\n\\n\\u200b\\n\\n친구 하나가 옥순이한테 맞아서 기영이에게 혼내달라고 함.\\n\\n정의감에 불타는 기영이의 표정\\n\\n\\u200b\\n\\n\\u200b\\n\\n\\u200b\\n\\n\\u200b\\n\\n두 싸나이 사이에 묘한 긴장감이 흐른다.\\n\\n꼬붕들도 긴장한 듯.\\n\\n\\u200b\\n\\n기영이: 야 공옥순!!!!!\\n\\n옥순이: 뭐? 공옥순??!! 내가 글케 부르지 말라고 했지!!\\n\\n\\u200b\\n\\n\\u200b\\n\\n\\u200b\\n\\n기영이: 옥순이를 옥순이라고 부른게 잘못이냐?\\n\\n\\u200b\\n\\n\\u200b\\n\\n\\u200b\\n\\n\\u200b\\n\\n옥순이: 너 진짜 이러면 내가 신사답지 못하게 공포의 쓴맛을 ,,,\\n\\n\\u200b\\n\\n\\u200b', 'score': 0.52100873}, {'title': '검정고무신 기영이 경주 때림 - TikTok', 'url': 'https://www.tiktok.com/discover/%EA%B2%80%EC%A0%95%EA%B3%A0%EB%AC%B4%EC%8B%A0-%EA%B8%B0%EC%98%81%EC%9D%B4-%EA%B2%BD%EC%A3%BC-%EB%95%8C%EB%A6%BC', 'content': 'Get the full app experience\\n\\nEnjoy more videos and great features on the app', 'score': 0.4811862}]\u001b[0m\u001b[32;1m\u001b[1;3m\n",
      "Invoking: `tavily_search` with `{'query': '검정고무신 기영이 다혜 에피소드'}`\n",
      "\n",
      "\n",
      "\u001b[0m\u001b[36;1m\u001b[1;3m[{'title': '다혜(검정 고무신) - 나무위키', 'url': 'https://namu.wiki/w/%EB%8B%A4%ED%98%9C(%EA%B2%80%EC%A0%95%20%EA%B3%A0%EB%AC%B4%EC%8B%A0)', 'content': '참고로 4기에서는 머리색이 흑발이다. 3기 1화에서는 기영이와 다혜의 첫만남을 다룬 에피소드[5]가 있는데, 등교하는 기영이가 개구리를 잡느라고', 'score': 0.77261686}, {'title': '봄날의 향기 - 나무위키', 'url': 'https://namu.wiki/w/%EB%B4%84%EB%82%A0%EC%9D%98%20%ED%96%A5%EA%B8%B0', 'content': '검정 고무신 3기의 시작을 여는 에피소드인 만큼 기영이의 양면성을 가장 잘 드러낸 에피소드이다. 막판에 기영이가 애들한테 놀림받은 일로[13] 전후', 'score': 0.56690645}, {'title': '검정고무신의 방영 목록 - 위키백과, 우리 모두의 백과사전', 'url': 'https://ko.wikipedia.org/wiki/%EA%B2%80%EC%A0%95%EA%B3%A0%EB%AC%B4%EC%8B%A0%EC%9D%98_%EB%B0%A9%EC%98%81_%EB%AA%A9%EB%A1%9D', 'content': '| 회차 | 방송 일자 | 부제 (서브 타이틀) | | 비고 |\\n ---  --- \\n| 1화 | 2004/06/16 | 봄날의 향기 | |  |\\n| 2화 | 2004/06/23 | 어머니날 | |  |\\n| 3화 | 2004/06/30 | 봄비 | 엿장수 맘대로 |  |\\n| 4화 | 2004/07/07 | 기영이의 생일 | |  |\\n| 5화 | 2004/07/14 | 만화책 이야기 | 미운오리새끼 |  |\\n| 6화 | 2004/07/21 | 세가지 소원 | |  |\\n| 7화 | 2004/07/28 | 전기 다리미 | 삼척동자 |  |\\n| 8화 | 2004/08/04 | 돈 돈 돈 | 거인국 여행기 |  |\\n| 9화 | 2004/08/11 | 카스테라 | 변소괴담 |  |\\n| 10화 | 2004/08/25 | 아이스케키 | 손님 오신 날 | 2004년 8월 18일 방송분은 2004년 하계 올림픽 중계 방송 편성 관계로 결방됨. | [...] | 19화 | 2004/11/17 | 형제의 대결 | |  |\\n| 20화 | 2004/11/24 | 철없는 기철이 | 그 옛날의 버스 풍경 |  |\\n| 21화 | 2004/12/01 | 공포의 오줌싸개 | 하룻밤의 외출 |  |\\n| 22화 | 2004/12/08 | 크림빵의 추억 | 아빠의 행복 |  |\\n| 23화 | 2004/12/15 | 보릿고개 시련기 (1) | |  |\\n| 24화 | 2004/12/22 | 보릿고개 시련기 (2) | |  |\\n| 25화 | 2004/12/29 | 보릿고개 시련기 (3) | |  |\\n| 최종화(26) | 2005/01/05 | 기영이네 새 식구 | |  | [...] | 회차 | 방송 일자 | 부제 (서브 타이틀) | | 비고 |\\n ---  --- \\n| 1화 | 2015/05/11 | 숨바꼭질 | 이상한 일기장 |  |\\n| 2화 | 2015/05/18 | 아빠의 돼지꿈 | 오후반에 생긴 일 |  |\\n| 3화 | 2015/06/01 | 기철이 특별반에 가다 | 기영이의 양심 |  |\\n| 4화 | 2015/06/08 | 아빠의 새 자전거 | 쥐 잡는 날 |  |\\n| 5화 | 2015/06/15 | 공포의 예방주사 | 견물생심 |  |\\n| 6화 | 2015/06/22 | 하면 된다! | 기철이는 차력사 |  |\\n| 7화 | 2015/06/29 | 기철이는 못 말려 | 땡구의 수난 |  |\\n| 8화 | 2015/07/06 | 무서운 이야기 | 장학금 때문에 |  |\\n| 9화 | 2015/07/13 | 도승이의 사친회비 | 위험한 여행 (1) |  |\\n| 10화 | 2015/07/20 | (2) | (3) |  |', 'score': 0.44565076}, {'title': '이기영(검정 고무신) - 나무위키', 'url': 'https://namu.wiki/w/%EC%9D%B4%EA%B8%B0%EC%98%81(%EA%B2%80%EC%A0%95%20%EA%B3%A0%EB%AC%B4%EC%8B%A0)', 'content': '한권에서 3분의 2가 기영이가 장난치는 에피소드일 정도로 말이다. 작중 기영이의 친구들이 기영이는 너무 착해서 탈이라고 할 정도다. 단, 이 대사는 애니판 한정이다.', 'score': 0.40126598}, {'title': '검정고무신 결말 기영이 여자친구 뭐더라? : 네이버 블로그', 'url': 'https://blog.naver.com/jennyyim76/222585696758?viewType=pc', 'content': '· 그리고 기영이 여자친구 원래 러브라인 이루던 · 경주와 다혜 중에서는 · 경주와 결혼을 하게 되었따고 하네요!! · 그리고 슬픈 스토리도 하나 있는데,.', 'score': 0.33261433}]\u001b[0m\u001b[32;1m\u001b[1;3m애니메이션 '검정고무신'에서 주인공 '기영이'가 여자아이와 엮이는 에피소드를 다음과 같이 정리했습니다.\n",
      "\n",
      "### 경주 관련 에피소드\n",
      "- **시즌 및 회차**: 시즌 3 1화\n",
      "- **에피소드 제목**: 봄날의 향기\n",
      "- **주요 줄거리 요약**: 기영이는 경주와의 첫 만남을 다루고 있습니다. 기영이는 경주에게 특별한 감정을 느끼며, 경주와의 관계가 발전하는 계기가 됩니다.\n",
      "\n",
      "### 다혜 관련 에피소드\n",
      "- **시즌 및 회차**: 시즌 3 1화\n",
      "- **에피소드 제목**: 봄날의 향기\n",
      "- **주요 줄거리 요약**: 기영이는 다혜와의 첫 만남을 통해 그녀에게 호감을 가지게 됩니다. 다혜는 기영이에게 친절하게 대해주며, 기영이의 마음을 사로잡습니다.\n",
      "\n",
      "이 두 에피소드는 기영이가 각각 경주와 다혜와의 관계를 시작하는 중요한 에피소드로, 두 여자아이와의 특별한 관계를 형성하는 계기가 됩니다.\u001b[0m\n",
      "\n",
      "\u001b[1m> Finished chain.\u001b[0m\n",
      "============================================================\n",
      "✅ 검색 및 정리가 완료되었습니다!\n",
      "\n",
      "애니메이션 '검정고무신'에서 주인공 '기영이'가 여자아이와 엮이는 에피소드를 다음과 같이 정리했습니다.\n",
      "\n",
      "### 경주 관련 에피소드\n",
      "- **시즌 및 회차**: 시즌 3 1화\n",
      "- **에피소드 제목**: 봄날의 향기\n",
      "- **주요 줄거리 요약**: 기영이는 경주와의 첫 만남을 다루고 있습니다. 기영이는 경주에게 특별한 감정을 느끼며, 경주와의 관계가 발전하는 계기가 됩니다.\n",
      "\n",
      "### 다혜 관련 에피소드\n",
      "- **시즌 및 회차**: 시즌 3 1화\n",
      "- **에피소드 제목**: 봄날의 향기\n",
      "- **주요 줄거리 요약**: 기영이는 다혜와의 첫 만남을 통해 그녀에게 호감을 가지게 됩니다. 다혜는 기영이에게 친절하게 대해주며, 기영이의 마음을 사로잡습니다.\n",
      "\n",
      "이 두 에피소드는 기영이가 각각 경주와 다혜와의 관계를 시작하는 중요한 에피소드로, 두 여자아이와의 특별한 관계를 형성하는 계기가 됩니다.\n"
     ]
    }
   ],
   "source": [
    "import os\n",
    "from dotenv import load_dotenv\n",
    "\n",
    "# --- 1. 환경 변수 설정 ---\n",
    "# .env 파일에서 API 키를 불러옵니다.\n",
    "load_dotenv()\n",
    "\n",
    "# API 키들이 설정되었는지 확인\n",
    "if not os.getenv(\"OPENAI_API_KEY\") or not os.getenv(\"TAVILY_API_KEY\"):\n",
    "    raise ValueError(\"OPENAI_API_KEY와 TAVILY_API_KEY를 .env 파일에 설정해주세요.\")\n",
    "\n",
    "# --- 2. 필요한 모듈 불러오기 ---\n",
    "from langchain_openai import ChatOpenAI\n",
    "from langchain_core.prompts import ChatPromptTemplate\n",
    "from langchain_community.tools.tavily_search import TavilySearchResults\n",
    "from langchain.agents import create_tool_calling_agent, AgentExecutor\n",
    "\n",
    "# --- 3. 에이전트 기본 구성 요소 설정 ---\n",
    "# LLM, 검색 도구, 프롬프트를 설정합니다. 이전 코드와 동일합니다.\n",
    "llm = ChatOpenAI(model=\"gpt-4o\", temperature=0)\n",
    "tools = [TavilySearchResults(k=5, name=\"tavily_search\")]\n",
    "prompt = ChatPromptTemplate.from_messages([\n",
    "    (\"system\", \"You are a helpful assistant specializing in finding and summarizing animation episodes. Use the tavily_search tool to find information.\"),\n",
    "    (\"human\", \"{input}\"),\n",
    "    (\"placeholder\", \"{agent_scratchpad}\"),\n",
    "])\n",
    "\n",
    "# --- 4. 에이전트 생성 ---\n",
    "# 에이전트와 실행기를 생성합니다. 이전 코드와 동일합니다.\n",
    "agent = create_tool_calling_agent(llm, tools, prompt)\n",
    "agent_executor = AgentExecutor(agent=agent, tools=tools, verbose=True)\n",
    "\n",
    "\n",
    "# --- 5. 에이전트에게 내릴 구체적인 작업 명령(TASK) 정의 ---\n",
    "# ⭐️ 이 부분이 가장 중요합니다! ⭐️\n",
    "# 에이전트가 명확하게 이해하고 최고의 결과를 내도록 요청을 상세하게 작성합니다.\n",
    "TASK = \"\"\"\n",
    "애니메이션 '검정고무신'에서 주인공 '기영이'가 여자아이와 엮이는 모든 에피소드를 찾아줘.\n",
    "\n",
    "특히 '경주', '다혜' 등 기영이가 좋아했거나 특별한 관계가 있었던 여자아이들이 등장하는 에피소드를 중심으로 찾아주면 좋겠어.\n",
    "\n",
    "찾은 각 에피소드에 대해 아래 형식으로 정리해줘:\n",
    "\n",
    "- **시즌 및 회차**: (예: 시즌 3 5화)\n",
    "- **에피소드 제목**:\n",
    "- **주요 줄거리 요약**: (어떤 여자아이와 어떤 이야기가 있었는지 간략하게 요약)\n",
    "\"\"\"\n",
    "\n",
    "# --- 6. 에이전트 실행 ---\n",
    "# 정의된 작업을 에이전트에게 전달하여 실행시키고 결과를 받습니다.\n",
    "print(\"='검정고무신' 기영이 러브라인 에피소드 검색을 시작합니다...\")\n",
    "print(\"=\"*60)\n",
    "\n",
    "response = agent_executor.invoke({\"input\": TASK})\n",
    "\n",
    "print(\"=\"*60)\n",
    "print(\"✅ 검색 및 정리가 완료되었습니다!\\n\")\n",
    "print(f\"{response['output']}\")"
   ]
  }
 ],
 "metadata": {
  "kernelspec": {
   "display_name": "Python 3",
   "language": "python",
   "name": "python3"
  },
  "language_info": {
   "codemirror_mode": {
    "name": "ipython",
    "version": 3
   },
   "file_extension": ".py",
   "mimetype": "text/x-python",
   "name": "python",
   "nbconvert_exporter": "python",
   "pygments_lexer": "ipython3",
   "version": "3.13.2"
  }
 },
 "nbformat": 4,
 "nbformat_minor": 5
}
