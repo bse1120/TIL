{
 "cells": [
  {
   "cell_type": "code",
   "execution_count": 6,
   "id": "035d8ba7",
   "metadata": {},
   "outputs": [],
   "source": [
    "N, M = 5, 2\n",
    "\n",
    "# 5 * 5 판에서 2 * 2 부분사각형의 요소 총합 최대값을 구하시오. (49 가 나와야함)\n",
    "# 무식하게 모두 비교한다.\n",
    "board = [\n",
    "    [1, 3, 3, 6, 7],\n",
    "    [8, 13, 9, 12, 8],\n",
    "    [4, 16, 11, 12, 6],\n",
    "    [2, 4, 1, 23, 2],\n",
    "    [9, 13, 4, 7, 3]\n",
    "]"
   ]
  },
  {
   "cell_type": "code",
   "execution_count": 7,
   "id": "72e10b2a",
   "metadata": {},
   "outputs": [
    {
     "ename": "TypeError",
     "evalue": "unsupported operand type(s) for +: 'int' and 'ellipsis'",
     "output_type": "error",
     "traceback": [
      "\u001b[31m---------------------------------------------------------------------------\u001b[39m",
      "\u001b[31mTypeError\u001b[39m                                 Traceback (most recent call last)",
      "\u001b[36mCell\u001b[39m\u001b[36m \u001b[39m\u001b[32mIn[7]\u001b[39m\u001b[32m, line 5\u001b[39m\n\u001b[32m      3\u001b[39m \u001b[38;5;28;01mfor\u001b[39;00m i \u001b[38;5;129;01min\u001b[39;00m \u001b[38;5;28mrange\u001b[39m(N - M + \u001b[32m1\u001b[39m):  \n\u001b[32m      4\u001b[39m     \u001b[38;5;28;01mfor\u001b[39;00m j \u001b[38;5;129;01min\u001b[39;00m \u001b[38;5;28mrange\u001b[39m(N - M + \u001b[32m1\u001b[39m):\n\u001b[32m----> \u001b[39m\u001b[32m5\u001b[39m         current_sum = \u001b[43mboard\u001b[49m\u001b[43m[\u001b[49m\u001b[43mi\u001b[49m\u001b[43m]\u001b[49m\u001b[43m[\u001b[49m\u001b[43mj\u001b[49m\u001b[43m]\u001b[49m\u001b[43m \u001b[49m\u001b[43m+\u001b[49m\u001b[43m \u001b[49m\u001b[43m.\u001b[49m\u001b[43m.\u001b[49m\u001b[43m.\u001b[49m \n\u001b[32m      6\u001b[39m         \u001b[38;5;28;01mif\u001b[39;00m current_sum >= max_total:\n\u001b[32m      7\u001b[39m             current_sum = max_total\n",
      "\u001b[31mTypeError\u001b[39m: unsupported operand type(s) for +: 'int' and 'ellipsis'"
     ]
    }
   ],
   "source": [
    "max_total = 0\n",
    "\n",
    "for i in range(N - M + 1):  \n",
    "    for j in range(N - M + 1):\n",
    "        current_sum = board[i][j] + ... \n",
    "        if current_sum >= max_total:\n",
    "            current_sum = max_total\n",
    "        else :\n",
    "            max_total\n",
    "        \n",
    "print(max_total)"
   ]
  },
  {
   "cell_type": "code",
   "execution_count": null,
   "id": "f9ab45a7",
   "metadata": {},
   "outputs": [],
   "source": [
    "# 답\n",
    "# 시작 idx를 기준으로 M*N의 총합\n",
    "def sum_flies(r, c):\n",
    "    total = 0\n",
    "    for i in range(M):\n",
    "        for j in range(M):\n",
    "            total += board[r+1][c+j]\n",
    "    return total"
   ]
  },
  {
   "cell_type": "code",
   "execution_count": 9,
   "id": "d02982d3",
   "metadata": {},
   "outputs": [
    {
     "name": "stdout",
     "output_type": "stream",
     "text": [
      "54\n"
     ]
    }
   ],
   "source": [
    "#파리채의 시각화(좌-상) index만 골라줌\n",
    "\n",
    "maximum = 0\n",
    "for row in range(N-M+1):\n",
    "    for col in range(N-M+1):\n",
    "        total = sum_flies(row, col)\n",
    "        if maximum < total:\n",
    "            maximum= total\n",
    "print(maximum)"
   ]
  },
  {
   "cell_type": "code",
   "execution_count": null,
   "id": "b14b4f5f",
   "metadata": {},
   "outputs": [],
   "source": []
  }
 ],
 "metadata": {
  "kernelspec": {
   "display_name": "Python 3",
   "language": "python",
   "name": "python3"
  },
  "language_info": {
   "codemirror_mode": {
    "name": "ipython",
    "version": 3
   },
   "file_extension": ".py",
   "mimetype": "text/x-python",
   "name": "python",
   "nbconvert_exporter": "python",
   "pygments_lexer": "ipython3",
   "version": "3.13.2"
  }
 },
 "nbformat": 4,
 "nbformat_minor": 5
}
