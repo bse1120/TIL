{
 "cells": [
  {
   "cell_type": "markdown",
   "id": "015c665a",
   "metadata": {},
   "source": [
    "### 22번 문제\n",
    "학생들의 성적 딕셔너리를 만들고, 평균 점수를 계산하여 평균 이상인 학생들만 출력하세요."
   ]
  },
  {
   "cell_type": "code",
   "execution_count": 41,
   "id": "3e3ee36e",
   "metadata": {},
   "outputs": [
    {
     "name": "stdout",
     "output_type": "stream",
     "text": [
      "Alice\n",
      "Charlie\n"
     ]
    }
   ],
   "source": [
    "scores = {'Alice': 85, 'Bob': 72, 'Charlie': 90, 'David': 60}\n",
    "\n",
    "average = sum(scores.values())/len(scores.values())\n",
    "\n",
    "for student, score in scores.items() :\n",
    "    if score >= average :\n",
    "        print(student)"
   ]
  },
  {
   "cell_type": "markdown",
   "id": "cf788c80",
   "metadata": {},
   "source": [
    "### 23번 문제\n",
    "주어진 문자열에서 숫자만 추출하여 합계를 구하는 프로그램을 작성하세요."
   ]
  },
  {
   "cell_type": "code",
   "execution_count": null,
   "id": "7ea517c6",
   "metadata": {},
   "outputs": [
    {
     "name": "stdout",
     "output_type": "stream",
     "text": [
      "10\n"
     ]
    }
   ],
   "source": [
    "text = \"a1b2c3d4\"\n",
    "\n",
    "numbers = [int(num) for num in text if num.isdigit()]\n",
    "result = sum(numbers)\n",
    "print(result)"
   ]
  },
  {
   "cell_type": "markdown",
   "id": "8a14b3de",
   "metadata": {},
   "source": [
    "### 24번 문제\n",
    "피보나치 수열의 첫 10개 항을 리스트에 저장하여 출력하세요."
   ]
  },
  {
   "cell_type": "code",
   "execution_count": 8,
   "id": "cc8b02fd",
   "metadata": {},
   "outputs": [
    {
     "name": "stdout",
     "output_type": "stream",
     "text": [
      "5\n"
     ]
    }
   ],
   "source": [
    "fibonacci = [0, 1]\n",
    "\n",
    "# 못품\n",
    "\n",
    "# num = 0  \n",
    "# # 반복을 합니다.\n",
    "# # 5를 더하는 행위를.\n",
    "# # 100이 되었을때까지.\n",
    "# while True :\n",
    "#     num += 5\n",
    "#     result.append(num)\n",
    "\n",
    "#     if num == 100:\n",
    "#         break\n",
    "# print(result)\n",
    "\n",
    "def fibo(n):\n",
    "    a = 1\n",
    "    b = 1\n",
    "    if n == 1 or n == 2:\n",
    "    \treturn 1\n",
    "    for i in range(1, n):\n",
    "    \ta, b = b, b + a\n",
    "    \n",
    "    return a\n",
    "    \n",
    "print(fibo(5))"
   ]
  },
  {
   "cell_type": "markdown",
   "id": "cf47b1ae",
   "metadata": {},
   "source": [
    "### 25번 문제\n",
    "영어 문장을 입력받아 단어 개수, 문자 개수(공백 제외), 모음 개수를 세는 프로그램을 작성하세요."
   ]
  },
  {
   "cell_type": "code",
   "execution_count": null,
   "id": "92747767",
   "metadata": {},
   "outputs": [
    {
     "name": "stdout",
     "output_type": "stream",
     "text": [
      "1\n"
     ]
    }
   ],
   "source": [
    "sentence = input(\"문장을 입력하세요: \")\n",
    "\n",
    "Vowel = ['a', 'e', 'i', 'o', 'u']\n",
    "\n",
    "print(len(sentence.split()))\n",
    "\n",
    "못품"
   ]
  },
  {
   "cell_type": "markdown",
   "id": "65dcf00d",
   "metadata": {},
   "source": [
    "### 26번 문제\n",
    "2차원 리스트 [[1, 2, 3], [4, 5, 6], [7, 8, 9]]의 모든 원소의 합을 구하세요."
   ]
  },
  {
   "cell_type": "code",
   "execution_count": 7,
   "id": "26a8319e",
   "metadata": {},
   "outputs": [
    {
     "name": "stdout",
     "output_type": "stream",
     "text": [
      "45\n"
     ]
    }
   ],
   "source": [
    "matrix = [[1, 2, 3], [4, 5, 6], [7, 8, 9]]\n",
    "\n",
    "list_2d = [[1, 2, 3], [4, 5, 6], [7, 8, 9]]\n",
    "total_sum = 0\n",
    "\n",
    "for row in list_2d: \n",
    "  for element in row:\n",
    "    total_sum += element\n",
    "\n",
    "print(total_sum)  "
   ]
  },
  {
   "cell_type": "markdown",
   "id": "dea32b37",
   "metadata": {},
   "source": [
    "### 27번 문제\n",
    "문자열 리스트에서 가장 긴 문자열과 가장 짧은 문자열을 찾아 출력하세요."
   ]
  },
  {
   "cell_type": "code",
   "execution_count": 69,
   "id": "28d8b0c0",
   "metadata": {},
   "outputs": [
    {
     "name": "stdout",
     "output_type": "stream",
     "text": [
      "가장 긴 문자열: strawberry\n",
      "가장 짧은 문자열: kiwi\n"
     ]
    }
   ],
   "source": [
    "words = [\"apple\", \"banana\", \"kiwi\", \"strawberry\"]\n",
    "\n",
    "longest = max(words, key=len)\n",
    "shortest = min(words, key=len)\n",
    "\n",
    "print(f'가장 긴 문자열: {longest}')\n",
    "print(f'가장 짧은 문자열: {shortest}')"
   ]
  },
  {
   "cell_type": "code",
   "execution_count": 3,
   "id": "b52d3a34",
   "metadata": {},
   "outputs": [
    {
     "name": "stdout",
     "output_type": "stream",
     "text": [
      "가장 긴 단어: strawberry\n",
      "가장 짧은 단어: kiwi\n"
     ]
    }
   ],
   "source": [
    "# 반복문 활용\n",
    "\n",
    "words = [\"apple\", \"banana\", \"kiwi\", \"strawberry\"]\n",
    "\n",
    "# 첫 번째 단어를 가장 길고 짧은 단어의 초기값으로 설정\n",
    "longest_word = words[0]\n",
    "shortest_word = words[0]\n",
    "\n",
    "# 리스트를 반복하며 비교\n",
    "for word in words:\n",
    "    # 현재 저장된 '가장 긴 단어'보다 더 긴 단어를 만나면 교체\n",
    "    if len(word) > len(longest_word):\n",
    "        longest_word = word\n",
    "\n",
    "    # 현재 저장된 '가장 짧은 단어'보다 더 짧은 단어를 만나면 교체\n",
    "    if len(word) < len(shortest_word):\n",
    "        shortest_word = word\n",
    "\n",
    "print(f\"가장 긴 단어: {longest_word}\")\n",
    "print(f\"가장 짧은 단어: {shortest_word}\")"
   ]
  },
  {
   "cell_type": "markdown",
   "id": "88c6ac5b",
   "metadata": {},
   "source": [
    "### 28번 문제\n",
    "로또 번호 생성기를 만드세요. (1~45 중 중복 없는 6개 숫자)"
   ]
  },
  {
   "cell_type": "code",
   "execution_count": 2,
   "id": "5c9030f3",
   "metadata": {},
   "outputs": [
    {
     "data": {
      "text/plain": [
       "[12, 37, 35, 41, 23, 13]"
      ]
     },
     "execution_count": 2,
     "metadata": {},
     "output_type": "execute_result"
    }
   ],
   "source": [
    "import random\n",
    "sample(range(1, 46), 6)"
   ]
  },
  {
   "cell_type": "markdown",
   "id": "4cdf20f0",
   "metadata": {},
   "source": [
    "### 29번 문제\n",
    "문자열을 입력받아 각 문자의 ASCII 값을 딕셔너리로 저장하여 출력하세요."
   ]
  },
  {
   "cell_type": "code",
   "execution_count": null,
   "id": "4ff89e6f",
   "metadata": {},
   "outputs": [
    {
     "name": "stdout",
     "output_type": "stream",
     "text": [
      "{'h': 104, 'e': 101, 'l': 108, 'o': 111}\n"
     ]
    }
   ],
   "source": [
    "text = input(\"문자열을 입력하세요: \")\n",
    "\n",
    "ascii_dict = {}\n",
    "for char in text:\n",
    "    ascii_dict[char] = ord(char)\n",
    "\n",
    "print(ascii_dict)"
   ]
  },
  {
   "cell_type": "markdown",
   "id": "d458db98",
   "metadata": {},
   "source": [
    "### 30번 문제\n",
    "주어진 문자열에서 가장 많이 나타나는 문자와 그 개수를 찾아 출력하세요."
   ]
  },
  {
   "cell_type": "code",
   "execution_count": 55,
   "id": "edbc2d19",
   "metadata": {},
   "outputs": [
    {
     "name": "stdout",
     "output_type": "stream",
     "text": [
      "s 4\n"
     ]
    }
   ],
   "source": [
    "text = \"mississippi\"\n",
    "\n",
    "word = max(text)\n",
    "print (many, text.count(word))"
   ]
  }
 ],
 "metadata": {
  "kernelspec": {
   "display_name": "Python 3",
   "language": "python",
   "name": "python3"
  },
  "language_info": {
   "codemirror_mode": {
    "name": "ipython",
    "version": 3
   },
   "file_extension": ".py",
   "mimetype": "text/x-python",
   "name": "python",
   "nbconvert_exporter": "python",
   "pygments_lexer": "ipython3",
   "version": "3.13.2"
  }
 },
 "nbformat": 4,
 "nbformat_minor": 5
}
