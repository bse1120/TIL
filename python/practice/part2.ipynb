{
 "cells": [
  {
   "cell_type": "markdown",
   "id": "61fa5f2f",
   "metadata": {},
   "source": [
    "### 11번. 1부터 100까지 숫자 중 5의 배수만 리스트에 저장하여 출력하세요.\n",
    "\n",
    "리스트 내포(List Comprehension)를 사용해도 좋습니다.\n",
    "\n",
    "📌 출력 예시:\n",
    "```\n",
    "[5, 10, 15, ..., 100]\n",
    "```"
   ]
  },
  {
   "cell_type": "code",
   "execution_count": 50,
   "id": "c3411c0d",
   "metadata": {},
   "outputs": [
    {
     "name": "stdout",
     "output_type": "stream",
     "text": [
      "[5, 10, 15, 20, 25, 30, 35, 40, 45, 50, 55, 60, 65, 70, 75, 80, 85, 90, 95, 100]\n"
     ]
    }
   ],
   "source": [
    "# 내가 쓴 답\n",
    "\n",
    "five= []\n",
    "\n",
    "for n in range(1,101) :\n",
    "    if n % 5 == 0 :\n",
    "        five.append(n)\n",
    "        \n",
    "print(five)"
   ]
  },
  {
   "cell_type": "code",
   "execution_count": 98,
   "id": "8d1e34ff",
   "metadata": {},
   "outputs": [
    {
     "name": "stdout",
     "output_type": "stream",
     "text": [
      "[5, 10, 15, 20, 5, 10, 15, 20, 25, 30, 35, 40, 45, 50, 55, 60, 65, 70, 75, 80, 85, 90, 95, 100]\n"
     ]
    }
   ],
   "source": [
    "# 정답\n",
    "\n",
    "result = [5, 10, 15, 20]\n",
    "num = 0  \n",
    "# 반복을 합니다.\n",
    "# 5를 더하는 행위를.\n",
    "# 100이 되었을때까지.\n",
    "while True :\n",
    "    num += 5\n",
    "    # print(num)\n",
    "    result.append(num)\n",
    "\n",
    "    if num == 100:\n",
    "        break\n",
    "print(result)"
   ]
  },
  {
   "cell_type": "code",
   "execution_count": 101,
   "id": "5f071823",
   "metadata": {},
   "outputs": [
    {
     "name": "stdout",
     "output_type": "stream",
     "text": [
      "[5, 10, 15, 20, 5, 10, 15, 20, 25, 30, 35, 40, 45, 50, 55, 60, 65, 70, 75, 80, 85, 90, 95, 100, 10, 15, 20, 25, 30, 35, 40, 45, 50, 55, 10, 15, 20, 25, 30, 35, 40, 45, 50, 55, 10, 15, 20, 25, 30, 35, 40, 45, 50, 55]\n"
     ]
    }
   ],
   "source": [
    "# 답2\n",
    "\n",
    "# 5에다가 1곱함\n",
    "# 5에다가 2곱함\n",
    "# 5에다가 3곱함\n",
    "# 곱한 결과가 50보다 작을때까지.\n",
    "x = 1\n",
    "while True:\n",
    "    # 5 * 1\n",
    "    # 5 * 2\n",
    "    # 5 * 3\n",
    "    num = 5 * x\n",
    "    x += 1    \n",
    "    \n",
    "    result.append(5 * x)\n",
    "    if num == 50:\n",
    "        break\n",
    "\n",
    "print(result)"
   ]
  },
  {
   "cell_type": "code",
   "execution_count": 103,
   "id": "5dd71a97",
   "metadata": {},
   "outputs": [
    {
     "name": "stdout",
     "output_type": "stream",
     "text": [
      "[5, 10, 15, 20, 25, 30, 35, 40, 45, 50]\n"
     ]
    }
   ],
   "source": [
    "# 답3\n",
    "\n",
    "result = []\n",
    "for num in range(1, 51) :\n",
    "    # num이 5의 배수일때만 result에 넣을게.\n",
    "    if num % 5 == 0 :\n",
    "        result.append(num)\n",
    "print(result)"
   ]
  },
  {
   "cell_type": "code",
   "execution_count": 105,
   "id": "3b830383",
   "metadata": {},
   "outputs": [
    {
     "name": "stdout",
     "output_type": "stream",
     "text": [
      "[5, 10, 15, 20, 25, 30, 35, 40, 45, 50]\n",
      "[5, 10, 15, 20, 25, 30, 35, 40, 45, 50]\n"
     ]
    }
   ],
   "source": [
    "# 답4\n",
    "\n",
    "result = []\n",
    "for num in range(5, 51, 5) :\n",
    "    result.append(num)\n",
    "\n",
    "print(result)\n",
    "\n",
    "print([num for num in range(5, 51,5)])"
   ]
  },
  {
   "cell_type": "markdown",
   "id": "91ab613e",
   "metadata": {},
   "source": [
    "### 12번. 짝수만 필터링하여 새로운 리스트 만들기\n",
    "\n",
    "다음 리스트에서 짝수만 골라 새로운 리스트로 만드세요:\n",
    "```python\n",
    "nums = [1,2,3,4,5,6,7,8,9,10]\n",
    "```\n",
    "📌 출력 예시:\n",
    "```\n",
    "[2, 4, 6, 8, 10]\n",
    "```"
   ]
  },
  {
   "cell_type": "code",
   "execution_count": 107,
   "id": "97dbac20",
   "metadata": {},
   "outputs": [
    {
     "name": "stdout",
     "output_type": "stream",
     "text": [
      "[2, 4, 6, 8, 10]\n",
      "[2, 4, 6, 8, 10]\n"
     ]
    }
   ],
   "source": [
    "nums = [1,2,3,4,5,6,7,8,9,10]\n",
    "\n",
    "# 내가 쓴 답\n",
    "\n",
    "even = []\n",
    "\n",
    "for n in nums :\n",
    "    if n % 2 == 0 :\n",
    "        even.append(n)\n",
    "\n",
    "print(even)\n",
    "\n",
    "print([n for n in nums if n % 2 == 0])"
   ]
  },
  {
   "cell_type": "markdown",
   "id": "f4750fde",
   "metadata": {},
   "source": [
    "### 13번. 딕셔너리에서 가장 비싼 과일 찾기\n",
    "\n",
    "다음 딕셔너리에서 가격이 가장 높은 과일과 그 가격을 출력하세요:\n",
    "```python\n",
    "fruits = {'apple': 1000, 'banana': 500, 'orange': 800}\n",
    "```"
   ]
  },
  {
   "cell_type": "code",
   "execution_count": null,
   "id": "4440c679",
   "metadata": {},
   "outputs": [
    {
     "name": "stdout",
     "output_type": "stream",
     "text": [
      "apple 1000\n"
     ]
    }
   ],
   "source": [
    "# 내가 쓴 답\n",
    "\n",
    "fruits = {'apple': 1000, 'banana': 500, 'orange': 800}\n",
    "\n",
    "expensive = max(fruits, key=fruits.get)\n",
    "price = fruits[expensive]\n",
    "\n",
    "print(expensive, price)"
   ]
  },
  {
   "cell_type": "code",
   "execution_count": 119,
   "id": "e867ce16",
   "metadata": {},
   "outputs": [
    {
     "name": "stdout",
     "output_type": "stream",
     "text": [
      "1000 apple\n"
     ]
    }
   ],
   "source": [
    "# 답1\n",
    "\n",
    "fruits = {'apple': 1000, 'banana': 500, 'orange': 800}\n",
    "\n",
    "max_price = 0  # 가격은 항상 0보다 크므로 0으로 잡아도 문제 X\n",
    "max_price = float('-inf')  # 가격이 음수일 리 없으므로\n",
    "max_price_fruit = \"\"\n",
    "\n",
    "for fruit, price in fruits.items():\n",
    "\n",
    "    # 이 조건문을 통과하는 순간 : 최고가가 경신되었을 때\n",
    "    if max_price < price:\n",
    "        max_price = price\n",
    "        max_price_fruit = fruit\n",
    "print(max_price, max_price_fruit)"
   ]
  },
  {
   "cell_type": "code",
   "execution_count": 120,
   "id": "4289d715",
   "metadata": {},
   "outputs": [
    {
     "name": "stdout",
     "output_type": "stream",
     "text": [
      "1000 lemon\n"
     ]
    }
   ],
   "source": [
    "# 답2 (1과 무슨 차이인지 생각해보기)\n",
    "\n",
    "fruits = {'apple': 1000, 'banana': 500, 'orange': 800, 'lemon': 1000}\n",
    "\n",
    "max_price = 0  # 가격은 항상 0보다 크므로 0으로 잡아도 문제 X\n",
    "max_price = float('-inf')  # 가격이 음수일 리 없으므로\n",
    "max_price_fruit = \"\"\n",
    "\n",
    "for fruit, price in fruits.items():\n",
    "\n",
    "    # 이 조건문을 통과하는 순간 : 최고가가 경신되었을 때\n",
    "    if max_price <= price:\n",
    "        max_price = price\n",
    "        max_price_fruit = fruit\n",
    "print(max_price, max_price_fruit)"
   ]
  },
  {
   "cell_type": "code",
   "execution_count": 124,
   "id": "aea9b243",
   "metadata": {},
   "outputs": [
    {
     "name": "stdout",
     "output_type": "stream",
     "text": [
      "1000 ['apple', 'lemon']\n"
     ]
    }
   ],
   "source": [
    "# 답3 (2와 무슨 차이인지 생각해보기)\n",
    "\n",
    "fruits = {'apple': 1000, 'banana': 500, 'orange': 800, 'lemon': 1000}\n",
    "\n",
    "max_price = 0  # 가격은 항상 0보다 크므로 0으로 잡아도 문제 X\n",
    "max_price = float('-inf')  # 가격이 음수일 리 없으므로\n",
    "max_price_fruit = []\n",
    "\n",
    "for fruit, price in fruits.items():\n",
    "\n",
    "    # 이 조건문을 통과하는 순간 : 최고가가 경신되었을 때\n",
    "    if max_price < price:\n",
    "        max_price = price\n",
    "        max_price_fruit = [fruit]\n",
    "    # 최과가가 한번 더 나왔을 때 : 이미 max_price_fruit라는 곳에 과일이 들어있음.\n",
    "    elif max_price == price:\n",
    "        max_price = price\n",
    "        max_price_fruit.append(fruit)\n",
    "print(max_price, max_price_fruit)"
   ]
  },
  {
   "cell_type": "markdown",
   "id": "f63a58ef",
   "metadata": {},
   "source": [
    "### 14번. 구구단 3단 출력하기\n",
    "\n",
    "for문을 사용하여 구구단 3단을 출력하세요.\n",
    "\n",
    "📌 출력 예시:\n",
    "```\n",
    "3 x 1 = 3\n",
    "3 x 2 = 6\n",
    "...\n",
    "3 x 9 = 27\n",
    "```"
   ]
  },
  {
   "cell_type": "code",
   "execution_count": null,
   "id": "82376bb6",
   "metadata": {},
   "outputs": [
    {
     "name": "stdout",
     "output_type": "stream",
     "text": [
      "3 X 1 = 3\n",
      "3 X 2 = 6\n",
      "3 X 3 = 9\n",
      "3 X 4 = 12\n",
      "3 X 5 = 15\n",
      "3 X 6 = 18\n",
      "3 X 7 = 21\n",
      "3 X 8 = 24\n",
      "3 X 9 = 27\n"
     ]
    }
   ],
   "source": [
    "# 내가 쓴 답\n",
    "\n",
    "for i in range(1, 10) :\n",
    "    print(f'3 X {i} = {3 * i}')"
   ]
  },
  {
   "cell_type": "code",
   "execution_count": 3,
   "id": "771a0f54",
   "metadata": {},
   "outputs": [
    {
     "name": "stdout",
     "output_type": "stream",
     "text": [
      "-------------2 단-------------\n",
      "2 x 1 = 2\n",
      "2 x 2 = 4\n",
      "2 x 3 = 6\n",
      "2 x 4 = 8\n",
      "2 x 5 = 10\n",
      "2 x 6 = 12\n",
      "2 x 7 = 14\n",
      "2 x 8 = 16\n",
      "2 x 9 = 18\n",
      "-------------3 단-------------\n",
      "3 x 1 = 3\n",
      "3 x 2 = 6\n",
      "3 x 3 = 9\n",
      "3 x 4 = 12\n",
      "3 x 5 = 15\n",
      "3 x 6 = 18\n",
      "3 x 7 = 21\n",
      "3 x 8 = 24\n",
      "3 x 9 = 27\n",
      "-------------4 단-------------\n",
      "4 x 1 = 4\n",
      "4 x 2 = 8\n",
      "4 x 3 = 12\n",
      "4 x 4 = 16\n",
      "4 x 5 = 20\n",
      "4 x 6 = 24\n",
      "4 x 7 = 28\n",
      "4 x 8 = 32\n",
      "4 x 9 = 36\n",
      "-------------5 단-------------\n",
      "5 x 1 = 5\n",
      "5 x 2 = 10\n",
      "5 x 3 = 15\n",
      "5 x 4 = 20\n",
      "5 x 5 = 25\n",
      "5 x 6 = 30\n",
      "5 x 7 = 35\n",
      "5 x 8 = 40\n",
      "5 x 9 = 45\n",
      "-------------6 단-------------\n",
      "6 x 1 = 6\n",
      "6 x 2 = 12\n",
      "6 x 3 = 18\n",
      "6 x 4 = 24\n",
      "6 x 5 = 30\n",
      "6 x 6 = 36\n",
      "6 x 7 = 42\n",
      "6 x 8 = 48\n",
      "6 x 9 = 54\n",
      "-------------7 단-------------\n",
      "7 x 1 = 7\n",
      "7 x 2 = 14\n",
      "7 x 3 = 21\n",
      "7 x 4 = 28\n",
      "7 x 5 = 35\n",
      "7 x 6 = 42\n",
      "7 x 7 = 49\n",
      "7 x 8 = 56\n",
      "7 x 9 = 63\n",
      "-------------8 단-------------\n",
      "8 x 1 = 8\n",
      "8 x 2 = 16\n",
      "8 x 3 = 24\n",
      "8 x 4 = 32\n",
      "8 x 5 = 40\n",
      "8 x 6 = 48\n",
      "8 x 7 = 56\n",
      "8 x 8 = 64\n",
      "8 x 9 = 72\n",
      "-------------9 단-------------\n",
      "9 x 1 = 9\n",
      "9 x 2 = 18\n",
      "9 x 3 = 27\n",
      "9 x 4 = 36\n",
      "9 x 5 = 45\n",
      "9 x 6 = 54\n",
      "9 x 7 = 63\n",
      "9 x 8 = 72\n",
      "9 x 9 = 81\n"
     ]
    }
   ],
   "source": [
    "# 구구단 출력\n",
    "\n",
    "for dan in range(2,10):\n",
    "    print(f'-------------{dan} 단-------------')\n",
    "    for num in range(1, 10):\n",
    "        print(f'{dan} x {num} = {dan * num}')"
   ]
  },
  {
   "cell_type": "markdown",
   "id": "1a498a46",
   "metadata": {},
   "source": [
    "### 15번. 문자열에서 각 문자 개수 세기\n",
    "\n",
    "사용자로부터 문자열을 입력받아, 각 문자가 몇 번 나오는지 딕셔너리 형태로 출력하세요.\n",
    "\n",
    "📌 예시 입력: `hello`\n",
    "📌 예시 출력: `{'h':1, 'e':1, 'l':2, 'o':1}`"
   ]
  },
  {
   "cell_type": "code",
   "execution_count": 6,
   "id": "1774076d",
   "metadata": {},
   "outputs": [
    {
     "name": "stdout",
     "output_type": "stream",
     "text": [
      "{'h': 1, 'e': 1, 'l': 2, 'o': 1}\n"
     ]
    }
   ],
   "source": [
    "# 답1\n",
    "\n",
    "text = input(\"문자열을 입력하세요: \")\n",
    "\n",
    "counter = {}\n",
    "for char in text:\n",
    "    # dict는 in 연산시, key만 확인한다.\n",
    "    if char in counter:\n",
    "        counter[char] += 1  # 기존에 있는 키의 value만 수정\n",
    "    else:\n",
    "        counter[char] = 1  # 없는 키와 value 등록\n",
    "\n",
    "print(counter)"
   ]
  },
  {
   "cell_type": "code",
   "execution_count": 8,
   "id": "31c65195",
   "metadata": {},
   "outputs": [
    {
     "name": "stdout",
     "output_type": "stream",
     "text": [
      "{'h': 1, 'e': 1, 'l': 2, 'o': 1}\n"
     ]
    }
   ],
   "source": [
    "# 답2\n",
    "\n",
    "counter = {}\n",
    "for char in text:\n",
    "    counter[char] = counter.get(char, 0) + 1\n",
    "    \n",
    "print(counter)"
   ]
  },
  {
   "cell_type": "code",
   "execution_count": null,
   "id": "d6d6e860",
   "metadata": {},
   "outputs": [
    {
     "name": "stdout",
     "output_type": "stream",
     "text": [
      "{'h': 1, 'e': 1, 'l': 2, 'o': 1}\n"
     ]
    }
   ],
   "source": [
    "# 답3\n",
    "\n",
    "def count_characters(input_string):\n",
    "  \"\"\"\n",
    "  사용자로부터 문자열을 입력받아 각 문자의 개수를 세어 딕셔너리로 반환합니다.\n",
    "\n",
    "  Args:\n",
    "    input_string: 개수를 세고자 하는 문자열입니다.\n",
    "\n",
    "  Returns:\n",
    "    각 문자와 그 개수를 담은 딕셔너리를 반환합니다.\n",
    "  \"\"\"\n",
    "  char_count = {}\n",
    "  for char in input_string:\n",
    "    if char in char_count:\n",
    "      char_count[char] += 1\n",
    "    else:\n",
    "      char_count[char] = 1\n",
    "  return char_count\n",
    "\n",
    "# 사용자로부터 문자열 입력받기\n",
    "user_input = input(\"문자열을 입력하세요: \")\n",
    "\n",
    "# 함수를 호출하여 결과 출력하기\n",
    "result = count_characters(user_input)\n",
    "print(result)"
   ]
  },
  {
   "cell_type": "markdown",
   "id": "6a3f44e9",
   "metadata": {},
   "source": [
    "### 16번. 리스트 정렬과 최대/최소 값 찾기\n",
    "\n",
    "다음 리스트를 오름차순으로 정렬하고, 가장 큰 값과 가장 작은 값을 출력하세요:\n",
    "```python\n",
    "nums = [3, 1, 4, 1, 5, 9, 2, 6]\n",
    "```"
   ]
  },
  {
   "cell_type": "code",
   "execution_count": null,
   "id": "ecaa5fac",
   "metadata": {},
   "outputs": [
    {
     "data": {
      "text/plain": [
       "([1, 1, 2, 3, 4, 5, 6, 9], 9, 1)"
      ]
     },
     "execution_count": 53,
     "metadata": {},
     "output_type": "execute_result"
    }
   ],
   "source": [
    "# 내가 쓴 답\n",
    "\n",
    "nums = [3, 1, 4, 1, 5, 9, 2, 6]\n",
    "\n",
    "sorted(nums), max(nums), min(nums)"
   ]
  },
  {
   "cell_type": "code",
   "execution_count": 9,
   "id": "88c4b28f",
   "metadata": {},
   "outputs": [
    {
     "name": "stdout",
     "output_type": "stream",
     "text": [
      "[1, 1, 2, 3, 4, 5, 6, 9] 1 9\n"
     ]
    }
   ],
   "source": [
    "# 여기서부터 답\n",
    "\n",
    "nums = [3, 1, 4, 1, 5, 9, 2, 6]\n",
    "\n",
    "nums.sort()\n",
    "print(nums, nums[0], nums[-1])"
   ]
  },
  {
   "cell_type": "code",
   "execution_count": 10,
   "id": "eaac2140",
   "metadata": {},
   "outputs": [],
   "source": [
    "import random\n",
    "x = list(range(int(10e6)))\n",
    "random.shuffle(x)"
   ]
  },
  {
   "cell_type": "code",
   "execution_count": 11,
   "id": "1b68016e",
   "metadata": {},
   "outputs": [
    {
     "ename": "KeyboardInterrupt",
     "evalue": "",
     "output_type": "error",
     "traceback": [
      "\u001b[31m---------------------------------------------------------------------------\u001b[39m",
      "\u001b[31mKeyboardInterrupt\u001b[39m                         Traceback (most recent call last)",
      "\u001b[31mKeyboardInterrupt\u001b[39m: "
     ]
    }
   ],
   "source": [
    "xx = sorted(x)\n",
    "xx[0], xx[-1]"
   ]
  },
  {
   "cell_type": "code",
   "execution_count": 12,
   "id": "1ea48ad1",
   "metadata": {},
   "outputs": [
    {
     "name": "stdout",
     "output_type": "stream",
     "text": [
      "9999999 0\n"
     ]
    }
   ],
   "source": [
    "minimum = maximum = x[0]\n",
    "\n",
    "for n in x:\n",
    "    if n > maximum:\n",
    "        maximum = n\n",
    "    elif n < minimum:\n",
    "        minimum = n\n",
    "\n",
    "print(maximum, minimum)"
   ]
  },
  {
   "cell_type": "markdown",
   "id": "21f6f2d0",
   "metadata": {},
   "source": [
    "### 17번. 회문(Palindrome) 검사\n",
    "\n",
    "입력받은 단어가 앞에서 읽든 뒤에서 읽든 같은 단어인지 확인하는 프로그램을 작성하세요.\n",
    "\n",
    "📌 예시: `level` → 회문 / `hello` → 회문 아님"
   ]
  },
  {
   "cell_type": "code",
   "execution_count": null,
   "id": "5e7b6989",
   "metadata": {},
   "outputs": [
    {
     "name": "stdout",
     "output_type": "stream",
     "text": [
      "회문\n"
     ]
    }
   ],
   "source": [
    "# 내가 쓴 답\n",
    "\n",
    "word = input(\"단어를 입력하세요: \")\n",
    "\n",
    "reversed_word = \"\".join(reversed(word))\n",
    "\n",
    "if word == reversed_word:\n",
    "    print('회문')\n",
    "else :\n",
    "    print('회문 아님')"
   ]
  },
  {
   "cell_type": "code",
   "execution_count": null,
   "id": "1466b2e7",
   "metadata": {},
   "outputs": [],
   "source": [
    "# 답\n",
    "\n",
    "# word = input(\"단어를 입력하세요: \")\n",
    "word = '수박이 박수\\n'\n",
    "# 띄어쓰기 처리\n",
    "word = word.replace(' ', '')\n",
    "word = word.strip()\n",
    "\n",
    "if word == word[::-1]:\n",
    "    print('회문')\n",
    "else:\n",
    "    print('아님')"
   ]
  },
  {
   "cell_type": "markdown",
   "id": "4e83b9ca",
   "metadata": {},
   "source": [
    "### 18번. 집합 연산: 합집합, 교집합, 차집합\n",
    "\n",
    "다음 두 집합의 합집합, 교집합, 차집합을 구하세요:\n",
    "```python\n",
    "A = {1, 2, 3, 4, 5}\n",
    "B = {4, 5, 6, 7, 8}\n",
    "```"
   ]
  },
  {
   "cell_type": "code",
   "execution_count": null,
   "id": "6c1c77ae",
   "metadata": {},
   "outputs": [
    {
     "name": "stdout",
     "output_type": "stream",
     "text": [
      "합집합: {1, 2, 3, 4, 5, 6, 7, 8} 교집합: {4, 5} 차집합: {1, 2, 3}\n"
     ]
    }
   ],
   "source": [
    "# 내가 쓴 답\n",
    "\n",
    "A = {1, 2, 3, 4, 5}\n",
    "B = {4, 5, 6, 7, 8}\n",
    "\n",
    "print(f'합집합: {A | B}', f'교집합: {A & B}', f'차집합: {A - B}')"
   ]
  },
  {
   "cell_type": "code",
   "execution_count": null,
   "id": "704700b4",
   "metadata": {},
   "outputs": [],
   "source": [
    "# 답\n",
    "\n",
    "A = {1, 2, 3, 4, 5}\n",
    "B = {4, 5, 6, 7, 8}\n",
    "\n",
    "print(A | B)  # 합\n",
    "print(A & B)  # 교\n",
    "print(A - B)  # 차"
   ]
  },
  {
   "cell_type": "markdown",
   "id": "e49db016",
   "metadata": {},
   "source": [
    "### 19번. 1부터 n까지의 합 구하기\n",
    "\n",
    "사용자로부터 정수 n을 입력받아 1부터 n까지의 합을 구하는 프로그램을 작성하세요."
   ]
  },
  {
   "cell_type": "code",
   "execution_count": null,
   "id": "5e772a52",
   "metadata": {},
   "outputs": [
    {
     "data": {
      "text/plain": [
       "3"
      ]
     },
     "execution_count": 56,
     "metadata": {},
     "output_type": "execute_result"
    }
   ],
   "source": [
    "# 내가 쓴 답\n",
    "\n",
    "n = int(input(\"정수를 입력하세요: \"))\n",
    "\n",
    "sum(range(1,n+1))"
   ]
  },
  {
   "cell_type": "code",
   "execution_count": null,
   "id": "2d72f260",
   "metadata": {},
   "outputs": [],
   "source": [
    "# 답\n",
    "\n",
    "n = int(input(\"정수를 입력하세요: \"))\n",
    "\n",
    "total = 0\n",
    "for i in range(1, n+1):\n",
    "    total += i\n",
    "\n",
    "print(total)"
   ]
  },
  {
   "cell_type": "code",
   "execution_count": null,
   "id": "445ca705",
   "metadata": {},
   "outputs": [],
   "source": [
    "int(n * (n+1) / 2)"
   ]
  },
  {
   "cell_type": "markdown",
   "id": "c8ae9f8e",
   "metadata": {},
   "source": [
    "### 20번. 리스트에서 중복 제거\n",
    "\n",
    "다음 리스트에서 중복된 값을 제거하고 유일한 값만 남긴 리스트를 출력하세요:\n",
    "```python\n",
    "nums = [1, 2, 2, 3, 4, 4, 5]\n",
    "```"
   ]
  },
  {
   "cell_type": "code",
   "execution_count": null,
   "id": "0b9d2135",
   "metadata": {},
   "outputs": [
    {
     "data": {
      "text/plain": [
       "[1, 2, 3, 4, 5]"
      ]
     },
     "execution_count": 22,
     "metadata": {},
     "output_type": "execute_result"
    }
   ],
   "source": [
    "# 내가 쓴 답\n",
    "\n",
    "nums = [1, 2, 2, 3, 4, 4, 5]\n",
    "\n",
    "list(set(nums))"
   ]
  },
  {
   "cell_type": "code",
   "execution_count": null,
   "id": "ed15fe46",
   "metadata": {},
   "outputs": [],
   "source": [
    "# 답2\n",
    "\n",
    "uniq = []\n",
    "for num in nums:\n",
    "    if num not in uniq:\n",
    "        uniq.append(num)\n",
    "\n",
    "print(uniq)"
   ]
  }
 ],
 "metadata": {
  "kernelspec": {
   "display_name": "Python 3",
   "language": "python",
   "name": "python3"
  },
  "language_info": {
   "codemirror_mode": {
    "name": "ipython",
    "version": 3
   },
   "file_extension": ".py",
   "mimetype": "text/x-python",
   "name": "python",
   "nbconvert_exporter": "python",
   "pygments_lexer": "ipython3",
   "version": "3.13.2"
  }
 },
 "nbformat": 4,
 "nbformat_minor": 5
}
