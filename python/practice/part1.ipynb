{
 "cells": [
  {
   "cell_type": "markdown",
   "id": "f5169dd8",
   "metadata": {},
   "source": [
    "### 1번 문제\n",
    "사용자로부터 두 개의 숫자를 입력받아 더한 결과를 출력하는 프로그램을 작성하세요."
   ]
  },
  {
   "cell_type": "code",
   "execution_count": 11,
   "id": "548dcc86",
   "metadata": {},
   "outputs": [
    {
     "name": "stdout",
     "output_type": "stream",
     "text": [
      "7\n"
     ]
    }
   ],
   "source": [
    "# 내가 쓴 답\n",
    "num1 = int(input())\n",
    "num2 = int(input())\n",
    "print(num1 + num2)"
   ]
  },
  {
   "cell_type": "code",
   "execution_count": null,
   "id": "a555f038",
   "metadata": {},
   "outputs": [],
   "source": [
    "# 정답\n",
    "num1 = int(input())\n",
    "num2 = int(input())\n",
    "result = num1 + num2\n",
    "print(result)"
   ]
  },
  {
   "cell_type": "markdown",
   "id": "6fe6a717",
   "metadata": {},
   "source": [
    "### 2번 문제\n",
    "다음 변수들의 타입을 출력하세요: a = 10, b = 3.14, c = \"hello\", d = True"
   ]
  },
  {
   "cell_type": "code",
   "execution_count": 12,
   "id": "663605e7",
   "metadata": {},
   "outputs": [
    {
     "name": "stdout",
     "output_type": "stream",
     "text": [
      "<class 'int'>\n",
      "<class 'float'>\n",
      "<class 'str'>\n",
      "<class 'bool'>\n"
     ]
    }
   ],
   "source": [
    "a = 10\n",
    "b = 3.14\n",
    "c = \"hello\"\n",
    "d = True\n",
    "\n",
    "# 내가 쓴 답\n",
    "print(type(a), type(b), type(c), type(d))"
   ]
  },
  {
   "cell_type": "code",
   "execution_count": null,
   "id": "918ca842",
   "metadata": {},
   "outputs": [],
   "source": [
    "# 정답\n",
    "for x in [a, b, c, d]:\n",
    "    print(type(x))"
   ]
  },
  {
   "cell_type": "markdown",
   "id": "3d54c52e",
   "metadata": {},
   "source": [
    "### 3번 문제\n",
    "두 문자열을 결합하고, 결합된 문자열의 길이를 출력하세요."
   ]
  },
  {
   "cell_type": "code",
   "execution_count": 14,
   "id": "b465aa3e",
   "metadata": {},
   "outputs": [
    {
     "name": "stdout",
     "output_type": "stream",
     "text": [
      "10\n"
     ]
    }
   ],
   "source": [
    "str1 = \"Hello\"\n",
    "str2 = \"World\"\n",
    "\n",
    "# 내가 쓴 답\n",
    "combine = str1 + str2\n",
    "len(combine)"
   ]
  },
  {
   "cell_type": "code",
   "execution_count": null,
   "id": "77b2fb9f",
   "metadata": {},
   "outputs": [],
   "source": [
    "# 답1\n",
    "str3 = str1 + str2\n",
    "print(len(str3))\n",
    "\n",
    "# 답2\n",
    "str1 = 'herlaerjear'\n",
    "result = 0\n",
    "for el in str1:\n",
    "    result += 1\n",
    "\n",
    "print(result)"
   ]
  },
  {
   "cell_type": "code",
   "execution_count": 23,
   "id": "c0939082",
   "metadata": {},
   "outputs": [
    {
     "name": "stdout",
     "output_type": "stream",
     "text": [
      "1\n"
     ]
    }
   ],
   "source": [
    "# 다른 풀이\n",
    "\n",
    "lst = [3, 8, 5, 2, 7, 1]\n",
    "    \n",
    "    # 3 8 -> 3\n",
    "    # 3 5 -> 3\n",
    "    # 2 3 -> 2\n",
    "    # 7 2 -> 2\n",
    "\n",
    "if lst == []:\n",
    "    print('비어있음 안됨!')\n",
    "    \n",
    "else :\n",
    "\n",
    "    num = min(lst)\n",
    "\n",
    "    print(num)\n",
    "    # 첫번째 숫자랑 비교했을 때 버려지는 숫자.\n",
    "    # 첫번째 숫자랑 비교했을 때 첫번째가 되는 숫자.\n",
    "    min_num = lst[0]\n",
    "    min_num = float('inf')\n",
    "\n",
    "    # for문을 활용해서 가장 작은 수 구하기\n",
    "\n",
    "    for num in lst:\n",
    "        # 외부의 어떤 숫자 vs 나\n",
    "        # min num vs num\n",
    "\n",
    "        # 작은 것을 가지고 갈거야!\n",
    "        if min_num > num:\n",
    "            min_num = num\n",
    "    "
   ]
  },
  {
   "cell_type": "markdown",
   "id": "46d99a44",
   "metadata": {},
   "source": [
    "### 4번 문제\n",
    "10을 3으로 나눈 몫과 나머지를 각각 구하세요."
   ]
  },
  {
   "cell_type": "code",
   "execution_count": 26,
   "id": "0de1751f",
   "metadata": {},
   "outputs": [
    {
     "name": "stdout",
     "output_type": "stream",
     "text": [
      "몫: 3\n",
      "나머지: 1\n"
     ]
    }
   ],
   "source": [
    "a = 10\n",
    "b = 3\n",
    "\n",
    "# 내가 쓴 답\n",
    "print (a // b, a % b)"
   ]
  },
  {
   "cell_type": "code",
   "execution_count": null,
   "id": "d7e0286b",
   "metadata": {},
   "outputs": [],
   "source": [
    "# 정답\n",
    "\n",
    "print ('몫:', a // b)\n",
    "print ('나머지:', a % b)"
   ]
  },
  {
   "cell_type": "markdown",
   "id": "a4e7cdb2",
   "metadata": {},
   "source": [
    "### 5번 문제\n",
    "주어진 숫자가 짝수인지 홀수인지 판별하는 프로그램을 작성하세요."
   ]
  },
  {
   "cell_type": "code",
   "execution_count": 28,
   "id": "5e22ad9d",
   "metadata": {},
   "outputs": [
    {
     "name": "stdout",
     "output_type": "stream",
     "text": [
      "홀수\n"
     ]
    }
   ],
   "source": [
    "num = int(input(\"숫자를 입력하세요: \"))\n",
    "\n",
    "# 내가 쓴 답\n",
    "if num % 2 :\n",
    "    print('odd')\n",
    "else :\n",
    "    print('even')"
   ]
  },
  {
   "cell_type": "code",
   "execution_count": null,
   "id": "08195494",
   "metadata": {},
   "outputs": [],
   "source": [
    "# 정답\n",
    "\n",
    "if num % 2 == 0 :\n",
    "    print('짝수')\n",
    "if num % 2 == 1 :\n",
    "# else:  (else 최대한 쓰지말기)\n",
    "    print('홀수')"
   ]
  },
  {
   "cell_type": "markdown",
   "id": "09c0ed1e",
   "metadata": {},
   "source": [
    "### 6번 문제\n",
    "문자열 \"Python Programming\"에서 \"Python\"만 추출하여 출력하세요."
   ]
  },
  {
   "cell_type": "code",
   "execution_count": 30,
   "id": "97ef8621",
   "metadata": {},
   "outputs": [
    {
     "name": "stdout",
     "output_type": "stream",
     "text": [
      "Python\n",
      "Python\n"
     ]
    }
   ],
   "source": [
    "text = \"Python Programming\"\n",
    "\n",
    "# 내가 쓴 답\n",
    "result = text[0:6]\n",
    "print(result)\n"
   ]
  },
  {
   "cell_type": "code",
   "execution_count": null,
   "id": "666cf8a7",
   "metadata": {},
   "outputs": [],
   "source": [
    "print(text[0:6])  #답1\n",
    "print(text.split()[0])  # 답2"
   ]
  },
  {
   "cell_type": "code",
   "execution_count": null,
   "id": "b9c8066f",
   "metadata": {},
   "outputs": [],
   "source": [
    "# 번외문제\n",
    "time = \"07:30\"\n",
    "# 시간이 몇시야?\n",
    "\n",
    "hour = time[:2]\n",
    "hour = time.split(\":\")[0]"
   ]
  },
  {
   "cell_type": "markdown",
   "id": "993cd02d",
   "metadata": {},
   "source": [
    "### 7번 문제\n",
    "세 개의 숫자 중 가장 큰 수를 찾는 프로그램을 작성하세요."
   ]
  },
  {
   "cell_type": "code",
   "execution_count": 17,
   "id": "ef281b68",
   "metadata": {},
   "outputs": [
    {
     "name": "stdout",
     "output_type": "stream",
     "text": [
      "4\n"
     ]
    }
   ],
   "source": [
    "a = int(input(\"첫 번째 숫자: \"))\n",
    "b = int(input(\"두 번째 숫자: \"))\n",
    "c = int(input(\"세 번째 숫자: \"))\n",
    "\n",
    "print(max(a, b, c))"
   ]
  },
  {
   "cell_type": "markdown",
   "id": "92223519",
   "metadata": {},
   "source": [
    "### 8번 문제\n",
    "사용자의 나이를 입력받아 미성년자/성인을 판별하는 프로그램을 작성하세요."
   ]
  },
  {
   "cell_type": "code",
   "execution_count": 19,
   "id": "8f868b3a",
   "metadata": {},
   "outputs": [
    {
     "name": "stdout",
     "output_type": "stream",
     "text": [
      "성인\n"
     ]
    }
   ],
   "source": [
    "age = int(input(\"나이를 입력하세요: \"))\n",
    "\n",
    "if age >= 20 :\n",
    "    print ('성인')\n",
    "else :\n",
    "    print ('미성년자')"
   ]
  },
  {
   "cell_type": "markdown",
   "id": "be3bbbc0",
   "metadata": {},
   "source": [
    "### 9번 문제\n",
    "문자열을 입력받아 모든 문자를 대문자로 변환하여 출력하세요."
   ]
  },
  {
   "cell_type": "code",
   "execution_count": 32,
   "id": "baee4c0e",
   "metadata": {},
   "outputs": [
    {
     "name": "stdout",
     "output_type": "stream",
     "text": [
      "CHOCO\n"
     ]
    }
   ],
   "source": [
    "text = input(\"문자열을 입력하세요: \")\n",
    "print(text.upper())"
   ]
  },
  {
   "cell_type": "code",
   "execution_count": null,
   "id": "94fbc6df",
   "metadata": {},
   "outputs": [],
   "source": [
    "#번외문제\n",
    "\n",
    "# print(ord(\"b\"))\n",
    "\n",
    "# 문자 - 아스키코드\n",
    "# 대문자 - 아스키코드\n",
    "\n",
    "# 소문자 -> +32 대문자로\n",
    "# 대문자 -> 그대로 출력"
   ]
  },
  {
   "cell_type": "markdown",
   "id": "1ca09f2e",
   "metadata": {},
   "source": [
    "### 10번 문제\n",
    "두 숫자의 차이의 절댓값을 구하는 프로그램을 작성하세요."
   ]
  },
  {
   "cell_type": "code",
   "execution_count": 28,
   "id": "c38a658e",
   "metadata": {},
   "outputs": [
    {
     "name": "stdout",
     "output_type": "stream",
     "text": [
      "6\n"
     ]
    }
   ],
   "source": [
    "a = int(input(\"첫 번째 숫자: \"))\n",
    "b = int(input(\"두 번째 숫자: \"))\n",
    "\n",
    "print(abs(a-b))"
   ]
  },
  {
   "cell_type": "code",
   "execution_count": null,
   "id": "342d7536",
   "metadata": {},
   "outputs": [],
   "source": [
    "# 답2\n",
    "\n",
    "diff = a - b\n",
    "\n",
    "if diff > 0:\n",
    "    pass\n",
    "else:\n",
    "    diff = -diff"
   ]
  }
 ],
 "metadata": {
  "kernelspec": {
   "display_name": "Python 3",
   "language": "python",
   "name": "python3"
  },
  "language_info": {
   "codemirror_mode": {
    "name": "ipython",
    "version": 3
   },
   "file_extension": ".py",
   "mimetype": "text/x-python",
   "name": "python",
   "nbconvert_exporter": "python",
   "pygments_lexer": "ipython3",
   "version": "3.13.2"
  }
 },
 "nbformat": 4,
 "nbformat_minor": 5
}
