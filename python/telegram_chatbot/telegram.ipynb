{
 "cells": [
  {
   "cell_type": "markdown",
   "id": "98ac5e3a",
   "metadata": {},
   "source": [
    "# telegram.ipynb"
   ]
  },
  {
   "cell_type": "code",
   "execution_count": null,
   "id": "b5675b5d",
   "metadata": {},
   "outputs": [],
   "source": [
    "from dotenv import load_dotenv\n",
    "import os\n",
    "\n",
    "load_dotenv()\n",
    "\n",
    "# Bot 의 주민번호. 이게 있어야 어떤 봇을 컨트롤 하는지 알 수 있다.\n",
    "bot_token = '7294936968:AAGAKczHIUpdRjV4XAFl68iG73O8PlC2nbM'\n",
    "\n",
    "bot_token - os.getenv('TELEGRAM_BOT_TOKEN')"
   ]
  },
  {
   "cell_type": "code",
   "execution_count": 12,
   "id": "0cee8b8b",
   "metadata": {},
   "outputs": [],
   "source": [
    "# 고정된 URL. 뒤에 붙는 말에 따라 다른 요청이 됨\n",
    "URL = f'https://api.telegram.org/bot{bot_token}'"
   ]
  },
  {
   "cell_type": "code",
   "execution_count": 13,
   "id": "470a530d",
   "metadata": {},
   "outputs": [
    {
     "name": "stdout",
     "output_type": "stream",
     "text": [
      "https://api.telegram.org/bot7294936968:AAGAKczHIUpdRjV4XAFl68iG73O8PlC2nbM/getMe\n"
     ]
    }
   ],
   "source": [
    "# Bot 에 대한 정보\n",
    "print(URL + '/getMe')"
   ]
  },
  {
   "cell_type": "code",
   "execution_count": 14,
   "id": "11173e90",
   "metadata": {},
   "outputs": [
    {
     "name": "stdout",
     "output_type": "stream",
     "text": [
      "https://api.telegram.org/bot7294936968:AAGAKczHIUpdRjV4XAFl68iG73O8PlC2nbM/getUpdates\n"
     ]
    }
   ],
   "source": [
    "# Bot 의 모든 업데이트\n",
    "print(URL + '/getUpdates')"
   ]
  },
  {
   "cell_type": "code",
   "execution_count": 34,
   "id": "c430237a",
   "metadata": {},
   "outputs": [
    {
     "name": "stdout",
     "output_type": "stream",
     "text": [
      "https://api.telegram.org/bot7294936968:AAGAKczHIUpdRjV4XAFl68iG73O8PlC2nbM/sendMessage\n"
     ]
    }
   ],
   "source": [
    "# 답장을 위한 상대방 id\n",
    "my_id = '8396540030'\n",
    "# 메시지\n",
    "message = '응애봇'\n",
    "\n",
    "print(URL + '/sendMessage')  \n",
    "#  + f'?chat_id={my_id}&text={message}'"
   ]
  },
  {
   "cell_type": "code",
   "execution_count": 42,
   "id": "b5c53254",
   "metadata": {},
   "outputs": [],
   "source": [
    "data = {\n",
    "    \"ok\": True,\n",
    "    \"result\": [\n",
    "        {\n",
    "            \"update_id\": 559366451,\n",
    "            \"message\": {\n",
    "                \"message_id\": 1,\n",
    "                \"from\": {\n",
    "                    \"id\": 8396540030,\n",
    "                    \"is_bot\": False,\n",
    "                    \"first_name\": \"승은\",\n",
    "                    \"last_name\": \"배\",\n",
    "                    \"language_code\": \"ko\"\n",
    "                },\n",
    "                \"chat\": {\n",
    "                    \"id\": 8396540030,\n",
    "                    \"first_name\": \"승은\",\n",
    "                    \"last_name\": \"배\",\n",
    "                    \"type\": \"private\"\n",
    "                },\n",
    "                \"date\": 1753323132,\n",
    "                \"text\": \"/start\",\n",
    "                \"entities\": [\n",
    "                    {\n",
    "                        \"offset\": 0,\n",
    "                        \"length\": 6,\n",
    "                        \"type\": \"bot_command\"\n",
    "                    }\n",
    "                ]\n",
    "            }\n",
    "        },\n",
    "        {\n",
    "            \"update_id\": 559366452,\n",
    "            \"message\": {\n",
    "                \"message_id\": 2,\n",
    "                \"from\": {\n",
    "                    \"id\": 8396540030,\n",
    "                    \"is_bot\": False,\n",
    "                    \"first_name\": \"승은\",\n",
    "                    \"last_name\": \"배\",\n",
    "                    \"language_code\": \"ko\"\n",
    "                },\n",
    "                \"chat\": {\n",
    "                    \"id\": 8396540030,\n",
    "                    \"first_name\": \"승은\",\n",
    "                    \"last_name\": \"배\",\n",
    "                    \"type\": \"private\"\n",
    "                },\n",
    "                \"date\": 1753323726,\n",
    "                \"text\": \"hi\"\n",
    "            }\n",
    "        },\n",
    "        {\n",
    "            \"update_id\": 559366453,\n",
    "            \"message\": {\n",
    "                \"message_id\": 7,\n",
    "                \"from\": {\n",
    "                    \"id\": 8396540030,\n",
    "                    \"is_bot\": False,\n",
    "                    \"first_name\": \"승은\",\n",
    "                    \"last_name\": \"배\",\n",
    "                    \"language_code\": \"ko\"\n",
    "                },\n",
    "                \"chat\": {\n",
    "                    \"id\": 8396540030,\n",
    "                    \"first_name\": \"승은\",\n",
    "                    \"last_name\": \"배\",\n",
    "                    \"type\": \"private\"\n",
    "                },\n",
    "                \"date\": 1753330823,\n",
    "                \"chat_background_set\": {\n",
    "                    \"type\": {\n",
    "                        \"type\": \"wallpaper\",\n",
    "                        \"document\": {\n",
    "                            \"mime_type\": \"image/jpeg\",\n",
    "                            \"thumbnail\": {\n",
    "                                \"file_id\": \"AAMCBQADFQABaIG0h5SxPMwG1AXGS1byWLVTddUAAjMYAAIV8RBUbSscQi0Fa28BAAdtAAM2BA\",\n",
    "                                \"file_unique_id\": \"AQADMxgAAhXxEFRy\",\n",
    "                                \"file_size\": 12993,\n",
    "                                \"width\": 320,\n",
    "                                \"height\": 244\n",
    "                            },\n",
    "                            \"thumb\": {\n",
    "                                \"file_id\": \"AAMCBQADFQABaIG0h5SxPMwG1AXGS1byWLVTddUAAjMYAAIV8RBUbSscQi0Fa28BAAdtAAM2BA\",\n",
    "                                \"file_unique_id\": \"AQADMxgAAhXxEFRy\",\n",
    "                                \"file_size\": 12993,\n",
    "                                \"width\": 320,\n",
    "                                \"height\": 244\n",
    "                            },\n",
    "                            \"file_id\": \"EAACAgUAAxUAAWiBtIeUsTzMBtQFxktW8li1U3XVAAIzGAACFfEQVG0rHEItBWtvNgQ\",\n",
    "                            \"file_unique_id\": \"AgADMxgAAhXxEFQ\",\n",
    "                            \"file_size\": 37264\n",
    "                        },\n",
    "                        \"dark_theme_dimming\": 50\n",
    "                    }\n",
    "                }\n",
    "            }\n",
    "        },\n",
    "        {\n",
    "            \"update_id\": 559366454,\n",
    "            \"message\": {\n",
    "                \"message_id\": 8,\n",
    "                \"from\": {\n",
    "                    \"id\": 8396540030,\n",
    "                    \"is_bot\": False,\n",
    "                    \"first_name\": \"승은\",\n",
    "                    \"last_name\": \"배\",\n",
    "                    \"language_code\": \"ko\"\n",
    "                },\n",
    "                \"chat\": {\n",
    "                    \"id\": 8396540030,\n",
    "                    \"first_name\": \"승은\",\n",
    "                    \"last_name\": \"배\",\n",
    "                    \"type\": \"private\"\n",
    "                },\n",
    "                \"date\": 1753332525,\n",
    "                \"text\": \"fff\"\n",
    "            }\n",
    "        }\n",
    "    ]\n",
    "}"
   ]
  },
  {
   "cell_type": "code",
   "execution_count": null,
   "id": "c04b6891",
   "metadata": {},
   "outputs": [
    {
     "name": "stdout",
     "output_type": "stream",
     "text": [
      "적당히 먹어 8396540030\n"
     ]
    }
   ],
   "source": [
    "# 봇 업데이트 받아서, 마지막 메시지 & 유저 받아오기 (수신담당)\n",
    "\n",
    "import requests\n",
    "# /getUpdates 로 요청 보내고 -> 응답 JSON 받아서 저장 (실행할떄마다 갱신)\n",
    "data = requests.get(URL + '/getUpdates').json()\n",
    "\n",
    "# 데이터 안에 사용자 메시지(챗봇x)의 마지막 text(내용)을 뽑아라.\n",
    "last_text = data[\"result\"][-1][\"message\"][\"text\"]\n",
    "# 마지막 메시지의 보낸 사람 id 뽑기\n",
    "last_chat_id = data[\"result\"][-1][\"message\"][\"from\"][\"id\"]\n",
    "\n",
    "print(last_text, last_chat_id)"
   ]
  },
  {
   "cell_type": "code",
   "execution_count": null,
   "id": "11b8997a",
   "metadata": {},
   "outputs": [],
   "source": [
    "import random\n",
    "# 메시지가 로또면, 로또번호 6개 만들어서 보내기\n",
    "\n",
    "if last_text in ('로또', 'lotto', '가즈아'):  # '로또 라는 단어가 포함될때' -> if '로또' in last_text (순서 바꾸면 됨)\n",
    "    text = str(random.sample(range(1, 46), 6))\n",
    "elif last_text == '안녕':\n",
    "    text = 'ㅎㅇ'\n",
    "else:\n",
    "    text = '기영이는 그런거 몰루 ><'"
   ]
  },
  {
   "cell_type": "code",
   "execution_count": 80,
   "id": "4093d5cd",
   "metadata": {},
   "outputs": [
    {
     "data": {
      "text/plain": [
       "{'ok': True,\n",
       " 'result': {'message_id': 19,\n",
       "  'from': {'id': 7294936968,\n",
       "   'is_bot': True,\n",
       "   'first_name': 'bse1120',\n",
       "   'username': 'bse1120_bot'},\n",
       "  'chat': {'id': 8396540030,\n",
       "   'first_name': '승은',\n",
       "   'last_name': '배',\n",
       "   'type': 'private'},\n",
       "  'date': 1753335988,\n",
       "  'text': '기영이는 그런거 몰루 ><'}}"
      ]
     },
     "execution_count": 80,
     "metadata": {},
     "output_type": "execute_result"
    }
   ],
   "source": [
    "# 메시지 만들어서 전송 (발신담당)\n",
    "body = {\n",
    "    'chat_id': last_chat_id, \n",
    "    'text': text,\n",
    "}\n",
    "requests.get(URL + '/sendMessage', body).json()"
   ]
  },
  {
   "cell_type": "code",
   "execution_count": 100,
   "id": "061e6353",
   "metadata": {},
   "outputs": [
    {
     "name": "stdout",
     "output_type": "stream",
     "text": [
      "ㅇㅇ 8396540030\n"
     ]
    }
   ],
   "source": [
    "# 봇 업데이트 받아서, 마지막 메시지 & 유저 받아오기 (수신담당)\n",
    "\n",
    "import requests\n",
    "# /getUpdates 로 요청 보내고 -> 응답 JSON 받아서 저장 (실행할떄마다 갱신)\n",
    "data = requests.get(URL + '/getUpdates').json()\n",
    "\n",
    "# 데이터 안에 사용자 메시지(챗봇x)의 마지막 text(내용)을 뽑아라.\n",
    "Input_msg = data[\"result\"][-1][\"message\"][\"text\"]\n",
    "# 마지막 메시지의 보낸 사람 id 뽑기\n",
    "sender_id = data[\"result\"][-1][\"message\"][\"from\"][\"id\"]\n",
    "\n",
    "print(Input_msg, sender_id)"
   ]
  },
  {
   "cell_type": "code",
   "execution_count": 98,
   "id": "db9158a8",
   "metadata": {},
   "outputs": [],
   "source": [
    "import random\n",
    "# 메시지가 로또면, 로또번호 6개 만들어서 보내기\n",
    "if '로또' in Input_msg : \n",
    "    output_msg = str(random.sample(range(1, 46), 6))\n",
    "elif Input_msg == '안녕':\n",
    "    output_msg = 'ㅎㅇ'\n",
    "else:\n",
    "    output_msg = '기영이는 그런거 몰루 ><'"
   ]
  },
  {
   "cell_type": "code",
   "execution_count": 99,
   "id": "311f140e",
   "metadata": {},
   "outputs": [
    {
     "data": {
      "text/plain": [
       "{'ok': True,\n",
       " 'result': {'message_id': 28,\n",
       "  'from': {'id': 7294936968,\n",
       "   'is_bot': True,\n",
       "   'first_name': 'bse1120',\n",
       "   'username': 'bse1120_bot'},\n",
       "  'chat': {'id': 8396540030,\n",
       "   'first_name': '승은',\n",
       "   'last_name': '배',\n",
       "   'type': 'private'},\n",
       "  'date': 1753337425,\n",
       "  'text': '[6, 40, 34, 7, 2, 14]'}}"
      ]
     },
     "execution_count": 99,
     "metadata": {},
     "output_type": "execute_result"
    }
   ],
   "source": [
    "# 메시지 만들어서 전송\n",
    "body = {\n",
    "    # 누구한테\n",
    "    'chat_id': sender_id, \n",
    "    # 답변 메시지\n",
    "    'text': output_msg,\n",
    "}\n",
    "requests.get(URL + '/sendMessage', body).json()"
   ]
  }
 ],
 "metadata": {
  "kernelspec": {
   "display_name": "Python 3",
   "language": "python",
   "name": "python3"
  },
  "language_info": {
   "codemirror_mode": {
    "name": "ipython",
    "version": 3
   },
   "file_extension": ".py",
   "mimetype": "text/x-python",
   "name": "python",
   "nbconvert_exporter": "python",
   "pygments_lexer": "ipython3",
   "version": "3.13.2"
  }
 },
 "nbformat": 4,
 "nbformat_minor": 5
}
