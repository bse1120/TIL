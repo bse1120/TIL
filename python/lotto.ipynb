{
 "cells": [
  {
   "cell_type": "code",
   "execution_count": null,
   "id": "bc60bfe0",
   "metadata": {},
   "outputs": [],
   "source": [
    "import requests\n",
    "URL = \n",
    "https://www.dhlottery.co.kr/common.do?method=getLottoNumber&drwNo=1181\n",
    "\n",
    "{\n",
    "    \"totSellamnt\":3681782000,  # total sell amount -> 총판매액\n",
    "    \"returnValue\":\"success\",\n",
    "    \"drwNoDate\":\"2002-12-07\",  # 추첨한 날\n",
    "    \"firstWinamnt\":0,  # 당첨자 수\n",
    "    \"firstPrzwnerCo\":0,\n",
    "    \"firstAccumamnt\":863604600,  # 당첨금액\n",
    "    \"drwNo\":1,  # 로또 회차\n",
    "    \"bnusNo\":16,  # 보너스 번호\n",
    "    \"drwtNo6\":40,\n",
    "    \"drwtNo4\":33,\n",
    "    \"drwtNo5\":37,\n",
    "    \"drwtNo2\":23,\n",
    "    \"drwtNo3\":29,\n",
    "    \"drwtNo1\":10\n",
    "}\n",
    "\n",
    "\n",
    "{\n",
    "    \"totSellamnt\":113802682000,\n",
    "    \"returnValue\":\"success\",\n",
    "    \"drwNoDate\":\"2025-07-19\",\n",
    "    \"firstWinamnt\":1593643500,\n",
    "    \"drwtNo6\":41,\n",
    "    \"drwtNo4\":20,\n",
    "    \"firstPrzwnerCo\":17,\n",
    "    \"drwtNo5\":33,\n",
    "    \"bnusNo\":28,\n",
    "    \"firstAccumamnt\":27091939500,\n",
    "    \"drwNo\":1181,  # 로또 회차\n",
    "    \"drwtNo2\":10,\n",
    "    \"drwtNo3\":14,\n",
    "    \"drwtNo1\":8\n",
    " }"
   ]
  },
  {
   "cell_type": "code",
   "execution_count": 8,
   "id": "222cd0e4",
   "metadata": {},
   "outputs": [],
   "source": [
    "import requests\n",
    "URL = 'https://www.dhlottery.co.kr/common.do?method=getLottoNumber&drwNo=1181'\n",
    "res = requests.get(URL)"
   ]
  },
  {
   "cell_type": "code",
   "execution_count": 9,
   "id": "23e91e1e",
   "metadata": {},
   "outputs": [
    {
     "data": {
      "text/plain": [
       "1593643500"
      ]
     },
     "execution_count": 9,
     "metadata": {},
     "output_type": "execute_result"
    }
   ],
   "source": [
    "data = res.json()\n",
    "data['firstWinamnt']"
   ]
  },
  {
   "cell_type": "code",
   "execution_count": 26,
   "id": "fb243bd7",
   "metadata": {},
   "outputs": [
    {
     "name": "stdout",
     "output_type": "stream",
     "text": [
      "[41, 10, 1, 40, 37, 20]\n"
     ]
    }
   ],
   "source": [
    "# 내 로또번호 확인 (랜덤뽑기)\n",
    "\n",
    "import random\n",
    "my_numbers = random.sample(range(1, 46), 6)\n",
    "print(my_numbers)"
   ]
  },
  {
   "cell_type": "code",
   "execution_count": null,
   "id": "aaa58240",
   "metadata": {},
   "outputs": [
    {
     "name": "stdout",
     "output_type": "stream",
     "text": [
      "[41, 10, 1, 40, 37, 20]\n"
     ]
    }
   ],
   "source": [
    "# real_number = [8, 14, 10, 28, 33, 20, 41]\n",
    "print(my_numbers)"
   ]
  },
  {
   "cell_type": "code",
   "execution_count": 25,
   "id": "fdaa1c7c",
   "metadata": {},
   "outputs": [],
   "source": [
    "# 1. data 에서 real_numbers 를 뽑느다.\n",
    "real_numbers = [data[f'drwtNo{i}'] for i in range(1, 7)]"
   ]
  },
  {
   "cell_type": "code",
   "execution_count": 17,
   "id": "aaab8545",
   "metadata": {},
   "outputs": [
    {
     "name": "stdout",
     "output_type": "stream",
     "text": [
      "[8, 10, 14, 20, 33, 41] 28\n"
     ]
    }
   ],
   "source": [
    "# 필요하면 real_numbers.sort() 진행\n",
    "bonus = data['bnusNo']\n",
    "print(real_numbers, bonus)"
   ]
  },
  {
   "cell_type": "code",
   "execution_count": 30,
   "id": "909d574d",
   "metadata": {},
   "outputs": [
    {
     "name": "stdout",
     "output_type": "stream",
     "text": [
      "5\n"
     ]
    }
   ],
   "source": [
    "# 2. real_numbers + 보너스 와 my_numbers 를 비교해서 등수 확인\n",
    "'''\n",
    "1등 6개 같음\n",
    "2등 5개가 같고, 나머지 한개가 보너스번호\n",
    "3등 5개 같음\n",
    "4등 4개 같음\n",
    "5등 3개 같음\n",
    "꽝\n",
    "'''\n",
    "# 맞는 숫자의 개수\n",
    "match_cnt = len(set(real_numbers) & set(my_numbers))\n",
    "if match_cnt == 6:\n",
    "    print(1)\n",
    "elif match_cnt == 5 and bonus in my_numbers:\n",
    "    print(2)\n",
    "elif match_cnt == 5:\n",
    "    print(3)\n",
    "elif match_cnt == 4:\n",
    "    print(4)\n",
    "elif match_cnt == 3:\n",
    "    print(5)\n",
    "else:\n",
    "    print(False)"
   ]
  },
  {
   "cell_type": "code",
   "execution_count": 36,
   "id": "dc00dda5",
   "metadata": {},
   "outputs": [
    {
     "data": {
      "text/plain": [
       "5"
      ]
     },
     "execution_count": 36,
     "metadata": {},
     "output_type": "execute_result"
    }
   ],
   "source": [
    "# 3. 등수를 뽑아주는 함수를 만들어 보자.\n",
    "\n",
    "def check_luck(my_numbers, real_numbers, bonus):\n",
    "    match_cnt = len(set(real_numbers) & set(my_numbers))\n",
    "    if match_cnt == 6:\n",
    "        result = 1\n",
    "    elif match_cnt == 5 and bonus in my_numbers:\n",
    "        result = 2\n",
    "    elif match_cnt == 5:\n",
    "        result = 3\n",
    "    elif match_cnt == 4:\n",
    "        result = 4\n",
    "    elif match_cnt == 3:\n",
    "        result = 5\n",
    "    else:\n",
    "        result = False\n",
    "\n",
    "    return result\n",
    "\n",
    "# check_luck([1,2,3,4,5,6], [1,2,3,4,5,7], 6)\n",
    "check_luck(my_numbers, real_numbers, bonus)"
   ]
  },
  {
   "cell_type": "code",
   "execution_count": null,
   "id": "377d95fb",
   "metadata": {},
   "outputs": [],
   "source": [
    "# 얼마를 써야 1등이 나오는가\n",
    "\n",
    "cnt = 1\n",
    "real_numbers = [data[f'drwtNo{i}'] for i in range(1, 7)]\n",
    "bonus = data['bnusNo']\n",
    "\n",
    "while True:\n",
    "    cnt += 1\n",
    "    result = check_luck(random.sample(range(1, 46), 6), real_numbers, bonus)\n",
    "    \n",
    "    if result:\n",
    "        print(result)\n",
    "\n",
    "    if result == 1:\n",
    "        break\n",
    "\n",
    "print(cnt * 1000)  # 13,270,013,000  1,593,643,500"
   ]
  },
  {
   "cell_type": "code",
   "execution_count": 93,
   "id": "9ee27472",
   "metadata": {},
   "outputs": [
    {
     "name": "stdout",
     "output_type": "stream",
     "text": [
      "[9, 27, 22, 16, 26, 2]\n"
     ]
    }
   ],
   "source": [
    "# URL URI -> 요청을 보낸다. -> 응답\n",
    "\n",
    "# 내 로또번호 랜덤뽑기\n",
    "\n",
    "import random\n",
    "my_numbers = random.sample(range(1, 46), 6)\n",
    "print(my_numbers)"
   ]
  },
  {
   "cell_type": "code",
   "execution_count": null,
   "id": "ec32d311",
   "metadata": {},
   "outputs": [],
   "source": [
    "# 정답\n",
    "\n",
    "# 1. data 에서 real_numbers를 뽑는다\n",
    "\n",
    "real_numbers = [data[f'drwtNo{i}'] for i in range(1, 7)]\n",
    "\n",
    "# 비효율적인 방법\n",
    "\n",
    "real_numbers = [\n",
    "    data['drwtNo1'],\n",
    "    data['drwtNo2'],\n",
    "    data['drwtNo3'],\n",
    "    data['drwtNo4'],\n",
    "    data['drwtNo5'],\n",
    "    data['drwtNo6']\n",
    "]\n",
    "bonus = data['bnusNo']\n",
    "\n",
    "# 필요하면 real_numbers.sort() 진행\n",
    "\n",
    "# 2. real_numbers + 보너스 와 my_numbers 를 비교해서 등수 확인\n",
    "\n",
    "# 맞는 번호 갯수만 알면 되니까.. 교집합의 개수만 세면 된다!\n",
    "\n",
    "'''\n",
    "1등 6개 같음\n",
    "2등 5개가 같고, 나머지 한개가 보너스번호\n",
    "3등 5개 같음\n",
    "4등 4개 같음\n",
    "5등 3개 같음\n",
    "꽝\n",
    "'''\n",
    "\n",
    "# 등수를 뽑아주는 함수를 만들어보자 (매핑)\n"
   ]
  },
  {
   "cell_type": "code",
   "execution_count": null,
   "id": "856b4e4f",
   "metadata": {},
   "outputs": [
    {
     "data": {
      "text/plain": [
       "0"
      ]
     },
     "execution_count": 92,
     "metadata": {},
     "output_type": "execute_result"
    }
   ],
   "source": [
    "# real_numbers = [8, 10, 14, 20, 33, 41]\n",
    "# my_numbers = \n",
    "\n",
    "set(real_numbers) & set(my_numbers)\n",
    "\n",
    "len(set(real_numbers) & set(my_numbers))"
   ]
  },
  {
   "cell_type": "code",
   "execution_count": null,
   "id": "a83b261c",
   "metadata": {},
   "outputs": [
    {
     "name": "stdout",
     "output_type": "stream",
     "text": [
      "꽝\n"
     ]
    }
   ],
   "source": [
    "match = len(set(real_numbers) & set(my_numbers))\n",
    "\n",
    "def lotto():\n",
    "    if match == 6:\n",
    "        print('1등')\n",
    "    elif match == 5:\n",
    "        print('3등')\n",
    "    elif match == 4:\n",
    "        print('4등')\n",
    "    elif match == 3:\n",
    "        print('5등')\n",
    "    else :\n",
    "        print('꽝')\n",
    "\n",
    "lotto()"
   ]
  }
 ],
 "metadata": {
  "kernelspec": {
   "display_name": "Python 3",
   "language": "python",
   "name": "python3"
  },
  "language_info": {
   "codemirror_mode": {
    "name": "ipython",
    "version": 3
   },
   "file_extension": ".py",
   "mimetype": "text/x-python",
   "name": "python",
   "nbconvert_exporter": "python",
   "pygments_lexer": "ipython3",
   "version": "3.13.2"
  }
 },
 "nbformat": 4,
 "nbformat_minor": 5
}
